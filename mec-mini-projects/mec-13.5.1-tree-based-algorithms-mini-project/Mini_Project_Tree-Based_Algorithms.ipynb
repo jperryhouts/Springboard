{
 "cells": [
  {
   "cell_type": "markdown",
   "metadata": {},
   "source": [
    "# Mini Project: Tree-Based Algorithms"
   ]
  },
  {
   "cell_type": "markdown",
   "metadata": {},
   "source": [
    "## The \"German Credit\" Dataset"
   ]
  },
  {
   "cell_type": "markdown",
   "metadata": {},
   "source": [
    "### Dataset Details"
   ]
  },
  {
   "cell_type": "markdown",
   "metadata": {},
   "source": [
    "This dataset has two classes (these would be considered labels in Machine Learning terms) to describe the worthiness of a personal loan: \"Good\" or \"Bad\". There are predictors related to attributes, such as: checking account status, duration, credit history, purpose of the loan, amount of the loan, savings accounts or bonds, employment duration, installment rate in percentage of disposable income, personal information, other debtors/guarantors, residence duration, property, age, other installment plans, housing, number of existing credits, job information, number of people being liable to provide maintenance for, telephone, and foreign worker status.\n",
    "\n",
    "Many of these predictors are discrete and have been expanded into several 0/1 indicator variables (a.k.a. they have been one-hot-encoded).\n",
    "\n",
    "This dataset has been kindly provided by Professor Dr. Hans Hofmann of the University of Hamburg, and can also be found on the UCI Machine Learning Repository."
   ]
  },
  {
   "cell_type": "markdown",
   "metadata": {},
   "source": [
    "\n",
    "\n",
    "\n"
   ]
  },
  {
   "cell_type": "markdown",
   "metadata": {},
   "source": [
    "## Decision Trees"
   ]
  },
  {
   "cell_type": "markdown",
   "metadata": {},
   "source": [
    " As we have learned in the previous lectures, Decision Trees as a family of algorithms (irrespective to the particular implementation) are powerful algorithms that can produce models with a predictive accuracy higher than that produced by linear models, such as Linear or Logistic Regression. Primarily, this is due to the fact the DT's can model nonlinear relationships, and also have a number of tuning paramters, that allow for the practicioner to achieve the best possible model. An added bonus is the ability to visualize the trained Decision Tree model, which allows for some insight into how the model has produced the predictions that it has. One caveat here, to keep in mind, is that sometimes, due to the size of the dataset (both in the sense of the number of records, as well as the number of features), the visualization might prove to be very large and complex, increasing the difficulty of interpretation."
   ]
  },
  {
   "cell_type": "markdown",
   "metadata": {},
   "source": [
    "To give you a very good example of how Decision Trees can be visualized and interpreted, we would strongly recommend that, before continuing on with solving the problems in this Mini Project, you take the time to read this fanstastic, detailed and informative blog post: http://explained.ai/decision-tree-viz/index.html"
   ]
  },
  {
   "cell_type": "markdown",
   "metadata": {},
   "source": [
    "## Building Your First Decision Tree Model"
   ]
  },
  {
   "cell_type": "markdown",
   "metadata": {},
   "source": [
    "So, now it's time to jump straight into the heart of the matter. Your first task, is to build a Decision Tree model, using the aforementioned \"German Credit\" dataset, which contains 1,000 records, and 62 columns (one of them presents the labels, and the other 61 present the potential features for the model.)"
   ]
  },
  {
   "cell_type": "markdown",
   "metadata": {},
   "source": [
    "For this task, you will be using the scikit-learn library, which comes already pre-installed with the Anaconda Python distribution. In case you're not using that, you can easily install it using pip."
   ]
  },
  {
   "cell_type": "markdown",
   "metadata": {},
   "source": [
    "Before embarking on creating your first model, we would strongly encourage you to read the short tutorial for Decision Trees in scikit-learn (http://scikit-learn.org/stable/modules/tree.html), and then dive a bit deeper into the documentation of the algorithm itself (http://scikit-learn.org/stable/modules/generated/sklearn.tree.DecisionTreeClassifier.html). "
   ]
  },
  {
   "cell_type": "markdown",
   "metadata": {},
   "source": [
    "Also, since you want to be able to present the results of your model, we suggest you take a look at the tutorial for accuracy metrics for classification models (http://scikit-learn.org/stable/modules/model_evaluation.html#classification-report) as well as the more detailed documentation (http://scikit-learn.org/stable/modules/generated/sklearn.metrics.classification_report.html).\n",
    "\n",
    "Finally, an *amazing* resource that explains the various classification model accuracy metrics, as well as the relationships between them, can be found on Wikipedia: https://en.wikipedia.org/wiki/Confusion_matrix"
   ]
  },
  {
   "cell_type": "markdown",
   "metadata": {},
   "source": [
    "(Note: as you've already learned in the Logistic Regression mini project, a standard practice in Machine Learning for achieving the best possible result when training a model is to use hyperparameter tuning, through Grid Search and k-fold Cross Validation. We strongly encourage you to use it here as well, not just because it's standard practice, but also becuase it's not going to be computationally to intensive, due to the size of the dataset that you're working with. Our suggestion here is that you split the data into 70% training, and 30% testing. Then, do the hyperparameter tuning and Cross Validation on the training set, and afterwards to a final test on the testing set.)"
   ]
  },
  {
   "cell_type": "markdown",
   "metadata": {},
   "source": [
    "### Now we pass the torch onto you! You can start building your first Decision Tree model! :)"
   ]
  },
  {
   "cell_type": "code",
   "execution_count": 1,
   "metadata": {},
   "outputs": [],
   "source": [
    "import pandas as pd\n",
    "from sklearn.tree import DecisionTreeClassifier\n",
    "from sklearn.metrics import classification_report\n",
    "from sklearn.model_selection import train_test_split\n",
    "from sklearn.model_selection import GridSearchCV"
   ]
  },
  {
   "cell_type": "code",
   "execution_count": 2,
   "metadata": {},
   "outputs": [],
   "source": [
    "df = pd.read_csv('GermanCredit.csv')\n",
    "y = df.Class\n",
    "X = df.drop('Class', axis='columns')\n",
    "X_train, X_test, y_train, y_test = train_test_split(X, y, test_size=0.3)"
   ]
  },
  {
   "cell_type": "code",
   "execution_count": 3,
   "metadata": {},
   "outputs": [
    {
     "name": "stdout",
     "output_type": "stream",
     "text": [
      "{'ccp_alpha': 0.013, 'max_depth': 2, 'max_features': None, 'min_samples_leaf': 1, 'min_samples_split': 2}\n",
      "              precision    recall  f1-score   support\n",
      "\n",
      "         Bad       0.56      0.18      0.27        83\n",
      "        Good       0.75      0.94      0.84       217\n",
      "\n",
      "    accuracy                           0.73       300\n",
      "   macro avg       0.65      0.56      0.55       300\n",
      "weighted avg       0.70      0.73      0.68       300\n",
      "\n"
     ]
    }
   ],
   "source": [
    "search = GridSearchCV(\n",
    "    DecisionTreeClassifier(random_state=42), {\n",
    "        \"max_depth\": [1, 2, 3, 4, 5],\n",
    "        \"min_samples_leaf\": [1, 2, 3],\n",
    "        \"min_samples_split\": [2, 3, 4],\n",
    "        \"ccp_alpha\": [0.013, 0.014, 0.015, 0.016, 0.017],\n",
    "        \"max_features\": [None, \"sqrt\"]\n",
    "    },\n",
    "    scoring='accuracy', n_jobs=-1, cv=5)\n",
    "\n",
    "search.fit(X_train, y_train)\n",
    "print(search.best_params_)\n",
    "\n",
    "dt_classifier = search.best_estimator_\n",
    "y_pred = dt_classifier.predict(X_test)\n",
    "print(classification_report(y_test, y_pred))"
   ]
  },
  {
   "cell_type": "markdown",
   "metadata": {},
   "source": [
    "### After you've built the best model you can, now it's time to visualize it!"
   ]
  },
  {
   "cell_type": "markdown",
   "metadata": {},
   "source": [
    "Rememeber that amazing blog post from a few paragraphs ago, that demonstrated how to visualize and interpret the results of your Decision Tree model. We've seen that this can perform very well, but let's see how it does on the \"German Credit\" dataset that we're working on, due to it being a bit larger than the one used by the blog authors."
   ]
  },
  {
   "cell_type": "markdown",
   "metadata": {},
   "source": [
    "First, we're going to need to install their package. If you're using Anaconda, this can be done easily by running:"
   ]
  },
  {
   "cell_type": "code",
   "execution_count": 4,
   "metadata": {},
   "outputs": [],
   "source": [
    "#! pip install dtreeviz\n",
    "import matplotlib.pyplot as plt\n",
    "from dtreeviz.trees import *\n",
    "from IPython.display import Image, display_svg, SVG\n",
    "%matplotlib inline\n",
    "import seaborn as sns\n",
    "sns.set_style()"
   ]
  },
  {
   "cell_type": "markdown",
   "metadata": {},
   "source": [
    "If for any reason this way of installing doesn't work for you straight out of the box, please refer to the more detailed documentation here: https://github.com/parrt/dtreeviz"
   ]
  },
  {
   "cell_type": "markdown",
   "metadata": {},
   "source": [
    "Now you're ready to visualize your Decision Tree model! Please feel free to use the blog post for guidance and inspiration!"
   ]
  },
  {
   "cell_type": "code",
   "execution_count": 6,
   "metadata": {},
   "outputs": [
    {
     "name": "stderr",
     "output_type": "stream",
     "text": [
      "findfont: Font family ['Arial'] not found. Falling back to DejaVu Sans.\n"
     ]
    },
    {
     "data": {
      "image/svg+xml": [
       "<svg xmlns=\"http://www.w3.org/2000/svg\" xmlns:xlink=\"http://www.w3.org/1999/xlink\" width=\"285.0\" height=\"224.0\" viewBox=\"0.0 0.0 284.5 224.0\">\n",
       "<g id=\"graph0\" class=\"graph\" transform=\"scale(1.0 1.0) rotate(0) translate(4 220)\">\n",
       "<title>G</title>\n",
       "<polygon fill=\"white\" stroke=\"transparent\" points=\"-4,4 -4,-220 280.5,-220 280.5,4 -4,4\" />\n",
       "<g id=\"clust3\" class=\"cluster\">\n",
       "<title>cluster_legend</title>\n",
       "</g>\n",
       "\n",
       "<g id=\"node1\" class=\"node\">\n",
       "<title>node1</title>\n",
       "<text text-anchor=\"start\" x=\"14.5\" y=\"-102.4\" font-family=\"Helvetica,sans-Serif\" font-size=\"12.00\" fill=\"#444443\">Duration@31.50</text>\n",
       "</g>\n",
       "\n",
       "<g id=\"node3\" class=\"node\">\n",
       "<title>leaf2</title>\n",
       "<polygon fill=\"none\" stroke=\"#444443\" stroke-width=\"0\" points=\"57,-59 0,-59 0,0 57,0 57,-59\" />\n",
       "<svg height=\"51px\" version=\"1.1\" viewBox=\"0 0 65.492206 67.208753\" width=\"49px\" preserveAspectRatio=\"xMinYMin meet\" x=\"4.5\" y=\"-54.5\">\n",
       " <defs>\n",
       "  <style type=\"text/css\">\n",
       "*{stroke-linecap:butt;stroke-linejoin:round;}\n",
       "  </style>\n",
       " </defs>\n",
       " <g id=\"figure_1\">\n",
       "  <g id=\"patch_1\">\n",
       "   <path d=\"M 0 67.208753  L 65.492206 67.208753  L 65.492206 0  L 0 0  z \" style=\"fill:#ffffff;\" />\n",
       "  </g>\n",
       "  <g id=\"axes_1\">\n",
       "   <g id=\"patch_2\">\n",
       "    <path d=\"M 55.380812 23.476037  C 55.380812 19.074933 54.122855 14.764182 51.755783 11.053833  C 49.388711 7.343484 46.009715 4.385882 42.018597 2.530971  C 38.027479 0.676059 33.588113 -0 29.225765 0.582784  C 24.863417 1.165569 20.757202 2.983268 17.392969 5.820811  L 32.28417 23.476037  L 55.380812 23.476037  z \" style=\"fill:#fefebb;stroke:#444443;stroke-linejoin:miter;stroke-width:0.5;\" />\n",
       "   </g>\n",
       "   <g id=\"patch_3\">\n",
       "    <path d=\"M 17.392969 5.820811  C 14.426442 8.322912 12.13784 11.532796 10.739337 15.152876  C 9.340834 18.772956 8.877028 22.687792 9.390918 26.534441  C 9.904808 30.38109 11.380006 34.036887 13.679747 37.162903  C 15.979489 40.288919 19.030438 42.78547 22.549742 44.421102  C 26.069046 46.056734 29.944478 46.779287 33.816748 46.521775  C 37.689018 46.264263 41.434645 45.034897 44.706371 42.947651  C 47.978098 40.860406 50.671593 37.98184 52.537144 34.578825  C 54.402695 31.17581 55.380811 27.356864 55.380812 23.476041  L 32.28417 23.476037  L 17.392969 5.820811  z \" style=\"fill:#a1dab4;stroke:#444443;stroke-linejoin:miter;stroke-width:0.5;\" />\n",
       "   </g>\n",
       "   <g id=\"text_1\">\n",
       "    \n",
       "    <defs>\n",
       "     <path d=\"M 54.890625 33.015625  L 54.890625 0  L 45.90625 0  L 45.90625 32.71875  Q 45.90625 40.484375 42.875 44.328125  Q 39.84375 48.1875 33.796875 48.1875  Q 26.515625 48.1875 22.3125 43.546875  Q 18.109375 38.921875 18.109375 30.90625  L 18.109375 0  L 9.078125 0  L 9.078125 54.6875  L 18.109375 54.6875  L 18.109375 46.1875  Q 21.34375 51.125 25.703125 53.5625  Q 30.078125 56 35.796875 56  Q 45.21875 56 50.046875 50.171875  Q 54.890625 44.34375 54.890625 33.015625  z \" id=\"DejaVuSans-110\" />\n",
       "     <path d=\"M 10.59375 45.40625  L 73.1875 45.40625  L 73.1875 37.203125  L 10.59375 37.203125  z M 10.59375 25.484375  L 73.1875 25.484375  L 73.1875 17.1875  L 10.59375 17.1875  z \" id=\"DejaVuSans-61\" />\n",
       "     <path d=\"M 37.796875 64.3125  L 12.890625 25.390625  L 37.796875 25.390625  z M 35.203125 72.90625  L 47.609375 72.90625  L 47.609375 25.390625  L 58.015625 25.390625  L 58.015625 17.1875  L 47.609375 17.1875  L 47.609375 0  L 37.796875 0  L 37.796875 17.1875  L 4.890625 17.1875  L 4.890625 26.703125  z \" id=\"DejaVuSans-52\" />\n",
       "     <path d=\"M 10.984375 1.515625  L 10.984375 10.5  Q 14.703125 8.734375 18.5 7.8125  Q 22.3125 6.890625 25.984375 6.890625  Q 35.75 6.890625 40.890625 13.453125  Q 46.046875 20.015625 46.78125 33.40625  Q 43.953125 29.203125 39.59375 26.953125  Q 35.25 24.703125 29.984375 24.703125  Q 19.046875 24.703125 12.671875 31.3125  Q 6.296875 37.9375 6.296875 49.421875  Q 6.296875 60.640625 12.9375 67.421875  Q 19.578125 74.21875 30.609375 74.21875  Q 43.265625 74.21875 49.921875 64.515625  Q 56.59375 54.828125 56.59375 36.375  Q 56.59375 19.140625 48.40625 8.859375  Q 40.234375 -1.421875 26.421875 -1.421875  Q 22.703125 -1.421875 18.890625 -0.6875  Q 15.09375 0.046875 10.984375 1.515625  z M 30.609375 32.421875  Q 37.25 32.421875 41.125 36.953125  Q 45.015625 41.5 45.015625 49.421875  Q 45.015625 57.28125 41.125 61.84375  Q 37.25 66.40625 30.609375 66.40625  Q 23.96875 66.40625 20.09375 61.84375  Q 16.21875 57.28125 16.21875 49.421875  Q 16.21875 41.5 20.09375 36.953125  Q 23.96875 32.421875 30.609375 32.421875  z \" id=\"DejaVuSans-57\" />\n",
       "     <path d=\"M 12.40625 8.296875  L 28.515625 8.296875  L 28.515625 63.921875  L 10.984375 60.40625  L 10.984375 69.390625  L 28.421875 72.90625  L 38.28125 72.90625  L 38.28125 8.296875  L 54.390625 8.296875  L 54.390625 0  L 12.40625 0  z \" id=\"DejaVuSans-49\" />\n",
       "    </defs>\n",
       "    <g style=\"fill:#444443;\" transform=\"translate(17.072061 55.259003)scale(0.09 -0.09)\">\n",
       "     <use xlink:href=\"#DejaVuSans-110\" />\n",
       "     <use x=\"63.378906\" xlink:href=\"#DejaVuSans-61\" />\n",
       "     <use x=\"147.167969\" xlink:href=\"#DejaVuSans-52\" />\n",
       "     <use x=\"210.791016\" xlink:href=\"#DejaVuSans-57\" />\n",
       "     <use x=\"274.414062\" xlink:href=\"#DejaVuSans-49\" />\n",
       "    </g>\n",
       "    \n",
       "    <defs>\n",
       "     <path d=\"M 59.515625 10.40625  L 59.515625 29.984375  L 43.40625 29.984375  L 43.40625 38.09375  L 69.28125 38.09375  L 69.28125 6.78125  Q 63.578125 2.734375 56.6875 0.65625  Q 49.8125 -1.421875 42 -1.421875  Q 24.90625 -1.421875 15.25 8.5625  Q 5.609375 18.5625 5.609375 36.375  Q 5.609375 54.25 15.25 64.234375  Q 24.90625 74.21875 42 74.21875  Q 49.125 74.21875 55.546875 72.453125  Q 61.96875 70.703125 67.390625 67.28125  L 67.390625 56.78125  Q 61.921875 61.421875 55.765625 63.765625  Q 49.609375 66.109375 42.828125 66.109375  Q 29.4375 66.109375 22.71875 58.640625  Q 16.015625 51.171875 16.015625 36.375  Q 16.015625 21.625 22.71875 14.15625  Q 29.4375 6.6875 42.828125 6.6875  Q 48.046875 6.6875 52.140625 7.59375  Q 56.25 8.5 59.515625 10.40625  z \" id=\"DejaVuSans-71\" />\n",
       "     <path d=\"M 30.609375 48.390625  Q 23.390625 48.390625 19.1875 42.75  Q 14.984375 37.109375 14.984375 27.296875  Q 14.984375 17.484375 19.15625 11.84375  Q 23.34375 6.203125 30.609375 6.203125  Q 37.796875 6.203125 41.984375 11.859375  Q 46.1875 17.53125 46.1875 27.296875  Q 46.1875 37.015625 41.984375 42.703125  Q 37.796875 48.390625 30.609375 48.390625  z M 30.609375 56  Q 42.328125 56 49.015625 48.375  Q 55.71875 40.765625 55.71875 27.296875  Q 55.71875 13.875 49.015625 6.21875  Q 42.328125 -1.421875 30.609375 -1.421875  Q 18.84375 -1.421875 12.171875 6.21875  Q 5.515625 13.875 5.515625 27.296875  Q 5.515625 40.765625 12.171875 48.375  Q 18.84375 56 30.609375 56  z \" id=\"DejaVuSans-111\" />\n",
       "     <path d=\"M 45.40625 46.390625  L 45.40625 75.984375  L 54.390625 75.984375  L 54.390625 0  L 45.40625 0  L 45.40625 8.203125  Q 42.578125 3.328125 38.25 0.953125  Q 33.9375 -1.421875 27.875 -1.421875  Q 17.96875 -1.421875 11.734375 6.484375  Q 5.515625 14.40625 5.515625 27.296875  Q 5.515625 40.1875 11.734375 48.09375  Q 17.96875 56 27.875 56  Q 33.9375 56 38.25 53.625  Q 42.578125 51.265625 45.40625 46.390625  z M 14.796875 27.296875  Q 14.796875 17.390625 18.875 11.75  Q 22.953125 6.109375 30.078125 6.109375  Q 37.203125 6.109375 41.296875 11.75  Q 45.40625 17.390625 45.40625 27.296875  Q 45.40625 37.203125 41.296875 42.84375  Q 37.203125 48.484375 30.078125 48.484375  Q 22.953125 48.484375 18.875 42.84375  Q 14.796875 37.203125 14.796875 27.296875  z \" id=\"DejaVuSans-100\" />\n",
       "    </defs>\n",
       "    <g style=\"fill:#444443;\" transform=\"translate(20.433702 65.337035)scale(0.09 -0.09)\">\n",
       "     <use xlink:href=\"#DejaVuSans-71\" />\n",
       "     <use x=\"77.490234\" xlink:href=\"#DejaVuSans-111\" />\n",
       "     <use x=\"138.671875\" xlink:href=\"#DejaVuSans-111\" />\n",
       "     <use x=\"199.853516\" xlink:href=\"#DejaVuSans-100\" />\n",
       "    </g>\n",
       "   </g>\n",
       "  </g>\n",
       " </g>\n",
       "</svg></g>\n",
       "\n",
       "<g id=\"edge1\" class=\"edge\">\n",
       "<title>node1-&gt;leaf2</title>\n",
       "<path fill=\"none\" stroke=\"#444443\" stroke-width=\"0.3\" d=\"M60.75,-98.69C57.07,-90.91 50.25,-76.49 43.83,-62.91\" />\n",
       "<polygon fill=\"#444443\" stroke=\"#444443\" stroke-width=\"0.3\" points=\"45,-62.12 42.03,-59.1 42.47,-63.32 45,-62.12\" />\n",
       "</g>\n",
       "\n",
       "<g id=\"node4\" class=\"node\">\n",
       "<title>leaf3</title>\n",
       "<polygon fill=\"none\" stroke=\"#444443\" stroke-width=\"0\" points=\"128,-59 71,-59 71,0 128,0 128,-59\" />\n",
       "<svg height=\"51px\" version=\"1.1\" viewBox=\"0 0 65.483954 67.366705\" width=\"49px\" preserveAspectRatio=\"xMinYMin meet\" x=\"75.5\" y=\"-54.5\">\n",
       " <defs>\n",
       "  <style type=\"text/css\">\n",
       "*{stroke-linecap:butt;stroke-linejoin:round;}\n",
       "  </style>\n",
       " </defs>\n",
       " <g id=\"figure_1\">\n",
       "  <g id=\"patch_1\">\n",
       "   <path d=\"M 0 67.366705  L 65.483954 67.366705  L 65.483954 0  L 0 0  z \" style=\"fill:#ffffff;\" />\n",
       "  </g>\n",
       "  <g id=\"axes_1\">\n",
       "   <g id=\"patch_2\">\n",
       "    <path d=\"M 55.526903 23.468443  C 55.526903 19.574971 54.548891 15.74316 52.682949 12.325941  C 50.817006 8.908722 48.122234 6.014333 44.846837 3.909363  C 41.57144 1.804392 37.819162 0.555514 33.93561 0.277757  C 30.052058 0 26.160239 0.702161 22.618612 2.319568  C 19.076985 3.936975 15.997728 6.418397 13.664456 9.535282  C 11.331185 12.652167 9.817805 16.30579 9.263706 20.159633  C 8.709606 24.013475 9.132339 27.945469 10.492968 31.593457  C 11.853597 35.241445 14.109025 38.48988 17.051515 41.039562  L 32.276979 23.468443  L 55.526903 23.468443  z \" style=\"fill:#fefebb;stroke:#444443;stroke-linejoin:miter;stroke-width:0.5;\" />\n",
       "   </g>\n",
       "   <g id=\"patch_3\">\n",
       "    <path d=\"M 17.051515 41.039562  C 20.41962 43.958042 24.556889 45.84747 28.968168 46.481716  C 33.379448 47.115963 37.881442 46.468674 41.935346 44.617318  C 45.989249 42.765963 49.426617 39.787467 51.836059 36.038301  C 54.245502 32.289136 55.526903 27.925085 55.526903 23.468443  L 32.276979 23.468443  L 17.051515 41.039562  z \" style=\"fill:#a1dab4;stroke:#444443;stroke-linejoin:miter;stroke-width:0.5;\" />\n",
       "   </g>\n",
       "   <g id=\"text_1\">\n",
       "    \n",
       "    <defs>\n",
       "     <path d=\"M 54.890625 33.015625  L 54.890625 0  L 45.90625 0  L 45.90625 32.71875  Q 45.90625 40.484375 42.875 44.328125  Q 39.84375 48.1875 33.796875 48.1875  Q 26.515625 48.1875 22.3125 43.546875  Q 18.109375 38.921875 18.109375 30.90625  L 18.109375 0  L 9.078125 0  L 9.078125 54.6875  L 18.109375 54.6875  L 18.109375 46.1875  Q 21.34375 51.125 25.703125 53.5625  Q 30.078125 56 35.796875 56  Q 45.21875 56 50.046875 50.171875  Q 54.890625 44.34375 54.890625 33.015625  z \" id=\"DejaVuSans-110\" />\n",
       "     <path d=\"M 10.59375 45.40625  L 73.1875 45.40625  L 73.1875 37.203125  L 10.59375 37.203125  z M 10.59375 25.484375  L 73.1875 25.484375  L 73.1875 17.1875  L 10.59375 17.1875  z \" id=\"DejaVuSans-61\" />\n",
       "     <path d=\"M 12.40625 8.296875  L 28.515625 8.296875  L 28.515625 63.921875  L 10.984375 60.40625  L 10.984375 69.390625  L 28.421875 72.90625  L 38.28125 72.90625  L 38.28125 8.296875  L 54.390625 8.296875  L 54.390625 0  L 12.40625 0  z \" id=\"DejaVuSans-49\" />\n",
       "     <path d=\"M 10.796875 72.90625  L 49.515625 72.90625  L 49.515625 64.59375  L 19.828125 64.59375  L 19.828125 46.734375  Q 21.96875 47.46875 24.109375 47.828125  Q 26.265625 48.1875 28.421875 48.1875  Q 40.625 48.1875 47.75 41.5  Q 54.890625 34.8125 54.890625 23.390625  Q 54.890625 11.625 47.5625 5.09375  Q 40.234375 -1.421875 26.90625 -1.421875  Q 22.3125 -1.421875 17.546875 -0.640625  Q 12.796875 0.140625 7.71875 1.703125  L 7.71875 11.625  Q 12.109375 9.234375 16.796875 8.0625  Q 21.484375 6.890625 26.703125 6.890625  Q 35.15625 6.890625 40.078125 11.328125  Q 45.015625 15.765625 45.015625 23.390625  Q 45.015625 31 40.078125 35.4375  Q 35.15625 39.890625 26.703125 39.890625  Q 22.75 39.890625 18.8125 39.015625  Q 14.890625 38.140625 10.796875 36.28125  z \" id=\"DejaVuSans-53\" />\n",
       "    </defs>\n",
       "    <g style=\"fill:#444443;\" transform=\"translate(17.064869 55.416955)scale(0.09 -0.09)\">\n",
       "     <use xlink:href=\"#DejaVuSans-110\" />\n",
       "     <use x=\"63.378906\" xlink:href=\"#DejaVuSans-61\" />\n",
       "     <use x=\"147.167969\" xlink:href=\"#DejaVuSans-49\" />\n",
       "     <use x=\"210.791016\" xlink:href=\"#DejaVuSans-49\" />\n",
       "     <use x=\"274.414062\" xlink:href=\"#DejaVuSans-53\" />\n",
       "    </g>\n",
       "    \n",
       "    <defs>\n",
       "     <path d=\"M 19.671875 34.8125  L 19.671875 8.109375  L 35.5 8.109375  Q 43.453125 8.109375 47.28125 11.40625  Q 51.125 14.703125 51.125 21.484375  Q 51.125 28.328125 47.28125 31.5625  Q 43.453125 34.8125 35.5 34.8125  z M 19.671875 64.796875  L 19.671875 42.828125  L 34.28125 42.828125  Q 41.5 42.828125 45.03125 45.53125  Q 48.578125 48.25 48.578125 53.8125  Q 48.578125 59.328125 45.03125 62.0625  Q 41.5 64.796875 34.28125 64.796875  z M 9.8125 72.90625  L 35.015625 72.90625  Q 46.296875 72.90625 52.390625 68.21875  Q 58.5 63.53125 58.5 54.890625  Q 58.5 48.1875 55.375 44.234375  Q 52.25 40.28125 46.1875 39.3125  Q 53.46875 37.75 57.5 32.78125  Q 61.53125 27.828125 61.53125 20.40625  Q 61.53125 10.640625 54.890625 5.3125  Q 48.25 0 35.984375 0  L 9.8125 0  z \" id=\"DejaVuSans-66\" />\n",
       "     <path d=\"M 34.28125 27.484375  Q 23.390625 27.484375 19.1875 25  Q 14.984375 22.515625 14.984375 16.5  Q 14.984375 11.71875 18.140625 8.90625  Q 21.296875 6.109375 26.703125 6.109375  Q 34.1875 6.109375 38.703125 11.40625  Q 43.21875 16.703125 43.21875 25.484375  L 43.21875 27.484375  z M 52.203125 31.203125  L 52.203125 0  L 43.21875 0  L 43.21875 8.296875  Q 40.140625 3.328125 35.546875 0.953125  Q 30.953125 -1.421875 24.3125 -1.421875  Q 15.921875 -1.421875 10.953125 3.296875  Q 6 8.015625 6 15.921875  Q 6 25.140625 12.171875 29.828125  Q 18.359375 34.515625 30.609375 34.515625  L 43.21875 34.515625  L 43.21875 35.40625  Q 43.21875 41.609375 39.140625 45  Q 35.0625 48.390625 27.6875 48.390625  Q 23 48.390625 18.546875 47.265625  Q 14.109375 46.140625 10.015625 43.890625  L 10.015625 52.203125  Q 14.9375 54.109375 19.578125 55.046875  Q 24.21875 56 28.609375 56  Q 40.484375 56 46.34375 49.84375  Q 52.203125 43.703125 52.203125 31.203125  z \" id=\"DejaVuSans-97\" />\n",
       "     <path d=\"M 45.40625 46.390625  L 45.40625 75.984375  L 54.390625 75.984375  L 54.390625 0  L 45.40625 0  L 45.40625 8.203125  Q 42.578125 3.328125 38.25 0.953125  Q 33.9375 -1.421875 27.875 -1.421875  Q 17.96875 -1.421875 11.734375 6.484375  Q 5.515625 14.40625 5.515625 27.296875  Q 5.515625 40.1875 11.734375 48.09375  Q 17.96875 56 27.875 56  Q 33.9375 56 38.25 53.625  Q 42.578125 51.265625 45.40625 46.390625  z M 14.796875 27.296875  Q 14.796875 17.390625 18.875 11.75  Q 22.953125 6.109375 30.078125 6.109375  Q 37.203125 6.109375 41.296875 11.75  Q 45.40625 17.390625 45.40625 27.296875  Q 45.40625 37.203125 41.296875 42.84375  Q 37.203125 48.484375 30.078125 48.484375  Q 22.953125 48.484375 18.875 42.84375  Q 14.796875 37.203125 14.796875 27.296875  z \" id=\"DejaVuSans-100\" />\n",
       "    </defs>\n",
       "    <g style=\"fill:#444443;\" transform=\"translate(23.575104 65.494986)scale(0.09 -0.09)\">\n",
       "     <use xlink:href=\"#DejaVuSans-66\" />\n",
       "     <use x=\"68.603516\" xlink:href=\"#DejaVuSans-97\" />\n",
       "     <use x=\"129.882812\" xlink:href=\"#DejaVuSans-100\" />\n",
       "    </g>\n",
       "   </g>\n",
       "  </g>\n",
       " </g>\n",
       "</svg></g>\n",
       "\n",
       "<g id=\"edge2\" class=\"edge\">\n",
       "<title>node1-&gt;leaf3</title>\n",
       "<path fill=\"none\" stroke=\"#444443\" stroke-width=\"0.3\" d=\"M66.32,-98.69C70.11,-90.91 77.13,-76.49 83.73,-62.91\" />\n",
       "<polygon fill=\"#444443\" stroke=\"#444443\" stroke-width=\"0.3\" points=\"85.09,-63.31 85.58,-59.1 82.58,-62.09 85.09,-63.31\" />\n",
       "</g>\n",
       "\n",
       "<g id=\"node5\" class=\"node\">\n",
       "<title>leaf4</title>\n",
       "<polygon fill=\"none\" stroke=\"#444443\" stroke-width=\"0\" points=\"183,-135 126,-135 126,-76 183,-76 183,-135\" />\n",
       "<svg height=\"51px\" version=\"1.1\" viewBox=\"0 0 65.77674 67.511347\" width=\"49px\" preserveAspectRatio=\"xMinYMin meet\" x=\"130.5\" y=\"-130.5\">\n",
       " <defs>\n",
       "  <style type=\"text/css\">\n",
       "*{stroke-linecap:butt;stroke-linejoin:round;}\n",
       "  </style>\n",
       " </defs>\n",
       " <g id=\"figure_1\">\n",
       "  <g id=\"patch_1\">\n",
       "   <path d=\"M 0 67.511347  L 65.77674 67.511347  L 65.77674 0  L 0 0  z \" style=\"fill:#ffffff;\" />\n",
       "  </g>\n",
       "  <g id=\"axes_1\">\n",
       "   <g id=\"patch_2\">\n",
       "    <path d=\"M 55.812688 23.459469  C 55.812688 20.07705 55.07906 16.734527 53.662529 13.663012  C 52.245997 10.591498 50.17998 7.863451 47.607327 5.667496  L 32.420527 23.459469  L 55.812688 23.459469  z \" style=\"fill:#fefebb;stroke:#444443;stroke-linejoin:miter;stroke-width:0.5;\" />\n",
       "   </g>\n",
       "   <g id=\"patch_3\">\n",
       "    <path d=\"M 47.607327 5.667496  C 45.593916 3.948897 43.303309 2.584468 40.833276 1.632448  C 38.363243 0.680428 35.749433 0.154556 33.10341 0.077278  C 30.457388 -0 27.817343 0.372432 25.295959 1.178676  C 22.774575 1.984921 20.408244 3.213342 18.297966 4.811508  C 16.187688 6.409673 14.363921 8.354517 12.904508 10.563028  C 11.445095 12.771539 10.371099 15.211841 9.728363 17.779778  C 9.085626 20.347714 8.883424 23.00622 9.130389 25.641826  C 9.377353 28.277431 10.069918 30.852095 11.178524 33.255925  C 12.287131 35.659755 13.795777 37.858057 15.640071 39.757  C 17.484365 41.655944 19.637688 43.228122 22.00813 44.406431  C 24.378572 45.58474 26.931921 46.352172 29.559193 46.675972  C 32.186465 46.999772 34.849742 46.875266 37.435347 46.307769  C 40.020952 45.740272 42.491568 44.737974 44.741742 43.343656  C 46.991916 41.949338 48.989172 40.183124 50.648262 38.1204  C 52.307351 36.057677 53.604329 33.728215 54.483837 31.231442  C 55.363344 28.73467 55.812688 26.106622 55.812688 23.459472  L 32.420527 23.459469  L 47.607327 5.667496  z \" style=\"fill:#a1dab4;stroke:#444443;stroke-linejoin:miter;stroke-width:0.5;\" />\n",
       "   </g>\n",
       "   <g id=\"text_1\">\n",
       "    \n",
       "    <defs>\n",
       "     <path d=\"M 54.890625 33.015625  L 54.890625 0  L 45.90625 0  L 45.90625 32.71875  Q 45.90625 40.484375 42.875 44.328125  Q 39.84375 48.1875 33.796875 48.1875  Q 26.515625 48.1875 22.3125 43.546875  Q 18.109375 38.921875 18.109375 30.90625  L 18.109375 0  L 9.078125 0  L 9.078125 54.6875  L 18.109375 54.6875  L 18.109375 46.1875  Q 21.34375 51.125 25.703125 53.5625  Q 30.078125 56 35.796875 56  Q 45.21875 56 50.046875 50.171875  Q 54.890625 44.34375 54.890625 33.015625  z \" id=\"DejaVuSans-110\" />\n",
       "     <path d=\"M 10.59375 45.40625  L 73.1875 45.40625  L 73.1875 37.203125  L 10.59375 37.203125  z M 10.59375 25.484375  L 73.1875 25.484375  L 73.1875 17.1875  L 10.59375 17.1875  z \" id=\"DejaVuSans-61\" />\n",
       "     <path d=\"M 40.578125 39.3125  Q 47.65625 37.796875 51.625 33  Q 55.609375 28.21875 55.609375 21.1875  Q 55.609375 10.40625 48.1875 4.484375  Q 40.765625 -1.421875 27.09375 -1.421875  Q 22.515625 -1.421875 17.65625 -0.515625  Q 12.796875 0.390625 7.625 2.203125  L 7.625 11.71875  Q 11.71875 9.328125 16.59375 8.109375  Q 21.484375 6.890625 26.8125 6.890625  Q 36.078125 6.890625 40.9375 10.546875  Q 45.796875 14.203125 45.796875 21.1875  Q 45.796875 27.640625 41.28125 31.265625  Q 36.765625 34.90625 28.71875 34.90625  L 20.21875 34.90625  L 20.21875 43.015625  L 29.109375 43.015625  Q 36.375 43.015625 40.234375 45.921875  Q 44.09375 48.828125 44.09375 54.296875  Q 44.09375 59.90625 40.109375 62.90625  Q 36.140625 65.921875 28.71875 65.921875  Q 24.65625 65.921875 20.015625 65.03125  Q 15.375 64.15625 9.8125 62.3125  L 9.8125 71.09375  Q 15.4375 72.65625 20.34375 73.4375  Q 25.25 74.21875 29.59375 74.21875  Q 40.828125 74.21875 47.359375 69.109375  Q 53.90625 64.015625 53.90625 55.328125  Q 53.90625 49.265625 50.4375 45.09375  Q 46.96875 40.921875 40.578125 39.3125  z \" id=\"DejaVuSans-51\" />\n",
       "     <path d=\"M 10.984375 1.515625  L 10.984375 10.5  Q 14.703125 8.734375 18.5 7.8125  Q 22.3125 6.890625 25.984375 6.890625  Q 35.75 6.890625 40.890625 13.453125  Q 46.046875 20.015625 46.78125 33.40625  Q 43.953125 29.203125 39.59375 26.953125  Q 35.25 24.703125 29.984375 24.703125  Q 19.046875 24.703125 12.671875 31.3125  Q 6.296875 37.9375 6.296875 49.421875  Q 6.296875 60.640625 12.9375 67.421875  Q 19.578125 74.21875 30.609375 74.21875  Q 43.265625 74.21875 49.921875 64.515625  Q 56.59375 54.828125 56.59375 36.375  Q 56.59375 19.140625 48.40625 8.859375  Q 40.234375 -1.421875 26.421875 -1.421875  Q 22.703125 -1.421875 18.890625 -0.6875  Q 15.09375 0.046875 10.984375 1.515625  z M 30.609375 32.421875  Q 37.25 32.421875 41.125 36.953125  Q 45.015625 41.5 45.015625 49.421875  Q 45.015625 57.28125 41.125 61.84375  Q 37.25 66.40625 30.609375 66.40625  Q 23.96875 66.40625 20.09375 61.84375  Q 16.21875 57.28125 16.21875 49.421875  Q 16.21875 41.5 20.09375 36.953125  Q 23.96875 32.421875 30.609375 32.421875  z \" id=\"DejaVuSans-57\" />\n",
       "     <path d=\"M 37.796875 64.3125  L 12.890625 25.390625  L 37.796875 25.390625  z M 35.203125 72.90625  L 47.609375 72.90625  L 47.609375 25.390625  L 58.015625 25.390625  L 58.015625 17.1875  L 47.609375 17.1875  L 47.609375 0  L 37.796875 0  L 37.796875 17.1875  L 4.890625 17.1875  L 4.890625 26.703125  z \" id=\"DejaVuSans-52\" />\n",
       "    </defs>\n",
       "    <g style=\"fill:#444443;\" transform=\"translate(17.208417 55.561597)scale(0.09 -0.09)\">\n",
       "     <use xlink:href=\"#DejaVuSans-110\" />\n",
       "     <use x=\"63.378906\" xlink:href=\"#DejaVuSans-61\" />\n",
       "     <use x=\"147.167969\" xlink:href=\"#DejaVuSans-51\" />\n",
       "     <use x=\"210.791016\" xlink:href=\"#DejaVuSans-57\" />\n",
       "     <use x=\"274.414062\" xlink:href=\"#DejaVuSans-52\" />\n",
       "    </g>\n",
       "    \n",
       "    <defs>\n",
       "     <path d=\"M 59.515625 10.40625  L 59.515625 29.984375  L 43.40625 29.984375  L 43.40625 38.09375  L 69.28125 38.09375  L 69.28125 6.78125  Q 63.578125 2.734375 56.6875 0.65625  Q 49.8125 -1.421875 42 -1.421875  Q 24.90625 -1.421875 15.25 8.5625  Q 5.609375 18.5625 5.609375 36.375  Q 5.609375 54.25 15.25 64.234375  Q 24.90625 74.21875 42 74.21875  Q 49.125 74.21875 55.546875 72.453125  Q 61.96875 70.703125 67.390625 67.28125  L 67.390625 56.78125  Q 61.921875 61.421875 55.765625 63.765625  Q 49.609375 66.109375 42.828125 66.109375  Q 29.4375 66.109375 22.71875 58.640625  Q 16.015625 51.171875 16.015625 36.375  Q 16.015625 21.625 22.71875 14.15625  Q 29.4375 6.6875 42.828125 6.6875  Q 48.046875 6.6875 52.140625 7.59375  Q 56.25 8.5 59.515625 10.40625  z \" id=\"DejaVuSans-71\" />\n",
       "     <path d=\"M 30.609375 48.390625  Q 23.390625 48.390625 19.1875 42.75  Q 14.984375 37.109375 14.984375 27.296875  Q 14.984375 17.484375 19.15625 11.84375  Q 23.34375 6.203125 30.609375 6.203125  Q 37.796875 6.203125 41.984375 11.859375  Q 46.1875 17.53125 46.1875 27.296875  Q 46.1875 37.015625 41.984375 42.703125  Q 37.796875 48.390625 30.609375 48.390625  z M 30.609375 56  Q 42.328125 56 49.015625 48.375  Q 55.71875 40.765625 55.71875 27.296875  Q 55.71875 13.875 49.015625 6.21875  Q 42.328125 -1.421875 30.609375 -1.421875  Q 18.84375 -1.421875 12.171875 6.21875  Q 5.515625 13.875 5.515625 27.296875  Q 5.515625 40.765625 12.171875 48.375  Q 18.84375 56 30.609375 56  z \" id=\"DejaVuSans-111\" />\n",
       "     <path d=\"M 45.40625 46.390625  L 45.40625 75.984375  L 54.390625 75.984375  L 54.390625 0  L 45.40625 0  L 45.40625 8.203125  Q 42.578125 3.328125 38.25 0.953125  Q 33.9375 -1.421875 27.875 -1.421875  Q 17.96875 -1.421875 11.734375 6.484375  Q 5.515625 14.40625 5.515625 27.296875  Q 5.515625 40.1875 11.734375 48.09375  Q 17.96875 56 27.875 56  Q 33.9375 56 38.25 53.625  Q 42.578125 51.265625 45.40625 46.390625  z M 14.796875 27.296875  Q 14.796875 17.390625 18.875 11.75  Q 22.953125 6.109375 30.078125 6.109375  Q 37.203125 6.109375 41.296875 11.75  Q 45.40625 17.390625 45.40625 27.296875  Q 45.40625 37.203125 41.296875 42.84375  Q 37.203125 48.484375 30.078125 48.484375  Q 22.953125 48.484375 18.875 42.84375  Q 14.796875 37.203125 14.796875 27.296875  z \" id=\"DejaVuSans-100\" />\n",
       "    </defs>\n",
       "    <g style=\"fill:#444443;\" transform=\"translate(20.570058 65.639629)scale(0.09 -0.09)\">\n",
       "     <use xlink:href=\"#DejaVuSans-71\" />\n",
       "     <use x=\"77.490234\" xlink:href=\"#DejaVuSans-111\" />\n",
       "     <use x=\"138.671875\" xlink:href=\"#DejaVuSans-111\" />\n",
       "     <use x=\"199.853516\" xlink:href=\"#DejaVuSans-100\" />\n",
       "    </g>\n",
       "   </g>\n",
       "  </g>\n",
       " </g>\n",
       "</svg></g>\n",
       "\n",
       "\n",
       "<g id=\"node2\" class=\"node\">\n",
       "<title>node0</title>\n",
       "<text text-anchor=\"start\" x=\"1.5\" y=\"-183.9\" font-family=\"Helvetica,sans-Serif\" font-size=\"12.00\" fill=\"#444443\">CheckingAccountStatus.none@0.50</text>\n",
       "</g>\n",
       "\n",
       "<g id=\"edge4\" class=\"edge\">\n",
       "<title>node0-&gt;node1</title>\n",
       "<path fill=\"none\" stroke=\"#444443\" stroke-width=\"0.3\" d=\"M105.26,-180.28C97.61,-166.76 78.33,-132.7 68.88,-116.01\" />\n",
       "<polygon fill=\"#444443\" stroke=\"#444443\" stroke-width=\"0.3\" points=\"69.9,-114.96 66.71,-112.17 67.46,-116.34 69.9,-114.96\" />\n",
       "<text text-anchor=\"start\" x=\"91.5\" y=\"-146.8\" font-family=\"Times,serif\" font-size=\"14.00\">&#8804;</text>\n",
       "</g>\n",
       "\n",
       "<g id=\"edge5\" class=\"edge\">\n",
       "<title>node0-&gt;leaf4</title>\n",
       "<path fill=\"none\" stroke=\"#444443\" stroke-width=\"0.3\" d=\"M111.81,-180.28C116.86,-171.54 126.88,-154.23 135.95,-138.57\" />\n",
       "<polygon fill=\"#444443\" stroke=\"#444443\" stroke-width=\"0.3\" points=\"137.19,-139.21 137.98,-135.05 134.77,-137.81 137.19,-139.21\" />\n",
       "<text text-anchor=\"start\" x=\"133.5\" y=\"-146.8\" font-family=\"Times,serif\" font-size=\"14.00\">&gt;</text>\n",
       "</g>\n",
       "\n",
       "\n",
       "<g id=\"node6\" class=\"node\">\n",
       "<title>legend</title>\n",
       "<polygon fill=\"none\" stroke=\"black\" stroke-width=\"0\" points=\"268.5,-208 222.5,-208 222.5,-166 268.5,-166 268.5,-208\" />\n",
       "<svg height=\"38px\" version=\"1.1\" viewBox=\"0 0 56.98475 50.798625\" width=\"42px\" preserveAspectRatio=\"xMinYMin meet\" x=\"224.5\" y=\"-206\">\n",
       " <defs>\n",
       "  <style type=\"text/css\">\n",
       "*{stroke-linecap:butt;stroke-linejoin:round;}\n",
       "  </style>\n",
       " </defs>\n",
       " <g id=\"figure_1\">\n",
       "  <g id=\"patch_1\">\n",
       "   <path d=\"M 0 50.798625  L 56.98475 50.798625  L 56.98475 0  L 0 0  z \" style=\"fill:#ffffff;\" />\n",
       "  </g>\n",
       "  <g id=\"axes_1\">\n",
       "   <g id=\"legend_1\">\n",
       "    <g id=\"patch_2\">\n",
       "     <path d=\"M 1.666 50.798625  L 55.31875 50.798625  Q 56.98475 50.798625 56.98475 49.132625  L 56.98475 1.666  Q 56.98475 0 55.31875 0  L 1.666 0  Q -0 0 -0 1.666  L -0 49.132625  Q -0 50.798625 1.666 50.798625  z \" style=\"fill:#ffffff;opacity:0.8;stroke:#444443;stroke-linejoin:miter;stroke-width:0.5;\" />\n",
       "    </g>\n",
       "    <g id=\"text_1\">\n",
       "     \n",
       "     <defs>\n",
       "      <path d=\"M 52.78125 2.09375  Q 49.359375 0.34375 45.59375 -0.53125  Q 41.84375 -1.421875 37.703125 -1.421875  Q 22.953125 -1.421875 15.1875 8.296875  Q 7.421875 18.015625 7.421875 36.375  Q 7.421875 54.78125 15.1875 64.5  Q 22.953125 74.21875 37.703125 74.21875  Q 41.84375 74.21875 45.65625 73.34375  Q 49.46875 72.46875 52.78125 70.703125  L 52.78125 54.6875  Q 49.078125 58.109375 45.578125 59.6875  Q 42.09375 61.28125 38.375 61.28125  Q 30.46875 61.28125 26.4375 55  Q 22.40625 48.734375 22.40625 36.375  Q 22.40625 24.078125 26.4375 17.796875  Q 30.46875 11.53125 38.375 11.53125  Q 42.09375 11.53125 45.578125 13.109375  Q 49.078125 14.703125 52.78125 18.109375  z \" id=\"DejaVuSansMono-Bold-67\" />\n",
       "      <path d=\"M 56.203125 39.59375  Q 53.859375 41.75 50.703125 42.8125  Q 47.5625 43.890625 43.796875 43.890625  Q 39.265625 43.890625 35.859375 42.296875  Q 32.46875 40.71875 30.609375 37.703125  Q 29.4375 35.84375 28.96875 33.203125  Q 28.515625 30.5625 28.515625 25.203125  L 28.515625 0  L 14.203125 0  L 14.203125 54.6875  L 28.515625 54.6875  L 28.515625 46.1875  Q 30.609375 50.875 34.953125 53.4375  Q 39.3125 56 45.125 56  Q 48.046875 56 50.84375 55.296875  Q 53.65625 54.59375 56.203125 53.21875  z \" id=\"DejaVuSansMono-Bold-114\" />\n",
       "      <path d=\"M 53.8125 2.6875  Q 48.828125 0.640625 43.65625 -0.390625  Q 38.484375 -1.421875 32.71875 -1.421875  Q 19 -1.421875 11.75 5.921875  Q 4.5 13.28125 4.5 27.09375  Q 4.5 40.484375 11.46875 48.234375  Q 18.453125 56 30.515625 56  Q 42.671875 56 49.390625 48.796875  Q 56.109375 41.609375 56.109375 28.515625  L 56.109375 22.703125  L 19.046875 22.703125  Q 19.09375 16.265625 22.84375 13.078125  Q 26.609375 9.90625 34.078125 9.90625  Q 39.015625 9.90625 43.796875 11.328125  Q 48.578125 12.75 53.8125 15.828125  z M 41.703125 33.453125  Q 41.609375 39.109375 38.796875 42.015625  Q 35.984375 44.921875 30.515625 44.921875  Q 25.59375 44.921875 22.65625 41.921875  Q 19.734375 38.921875 19.1875 33.40625  z \" id=\"DejaVuSansMono-Bold-101\" />\n",
       "      <path d=\"M 38.625 46.921875  L 38.625 75.984375  L 52.875 75.984375  L 52.875 0  L 38.625 0  L 38.625 8.109375  Q 36.328125 3.375 32.6875 0.96875  Q 29.046875 -1.421875 24.125 -1.421875  Q 14.75 -1.421875 9.5625 6.09375  Q 4.390625 13.625 4.390625 27.296875  Q 4.390625 41.15625 9.640625 48.578125  Q 14.890625 56 24.609375 56  Q 29 56 32.484375 53.734375  Q 35.984375 51.46875 38.625 46.921875  z M 18.703125 27.203125  Q 18.703125 19.28125 21.328125 14.78125  Q 23.96875 10.296875 28.609375 10.296875  Q 33.25 10.296875 35.9375 14.78125  Q 38.625 19.28125 38.625 27.203125  Q 38.625 35.109375 35.9375 39.59375  Q 33.25 44.09375 28.609375 44.09375  Q 23.96875 44.09375 21.328125 39.59375  Q 18.703125 35.109375 18.703125 27.203125  z \" id=\"DejaVuSansMono-Bold-100\" />\n",
       "      <path d=\"M 10.796875 54.6875  L 39.109375 54.6875  L 39.109375 10.984375  L 56.890625 10.984375  L 56.890625 0  L 6.984375 0  L 6.984375 10.984375  L 24.8125 10.984375  L 24.8125 43.703125  L 10.796875 43.703125  z M 24.8125 81.296875  L 39.109375 81.296875  L 39.109375 64.59375  L 24.8125 64.59375  z \" id=\"DejaVuSansMono-Bold-105\" />\n",
       "      <path d=\"M 33.6875 70.21875  L 33.6875 54.6875  L 52.390625 54.6875  L 52.390625 43.703125  L 33.6875 43.703125  L 33.6875 17.828125  Q 33.6875 14.15625 35.46875 12.5625  Q 37.25 10.984375 41.40625 10.984375  L 52.390625 10.984375  L 52.390625 0  L 40.375 0  Q 28.078125 0 23.734375 3.921875  Q 19.390625 7.859375 19.390625 18.5  L 19.390625 43.703125  L 5.421875 43.703125  L 5.421875 54.6875  L 19.390625 54.6875  L 19.390625 70.21875  z \" id=\"DejaVuSansMono-Bold-116\" />\n",
       "     </defs>\n",
       "     <g style=\"fill:#444443;\" transform=\"translate(10.431437 14.262438)scale(0.1 -0.1)\">\n",
       "      <use xlink:href=\"#DejaVuSansMono-Bold-67\" />\n",
       "      <use x=\"60.205078\" xlink:href=\"#DejaVuSansMono-Bold-114\" />\n",
       "      <use x=\"120.410156\" xlink:href=\"#DejaVuSansMono-Bold-101\" />\n",
       "      <use x=\"180.615234\" xlink:href=\"#DejaVuSansMono-Bold-100\" />\n",
       "      <use x=\"240.820312\" xlink:href=\"#DejaVuSansMono-Bold-105\" />\n",
       "      <use x=\"301.025391\" xlink:href=\"#DejaVuSansMono-Bold-116\" />\n",
       "     </g>\n",
       "    </g>\n",
       "    <g id=\"patch_3\">\n",
       "     <path d=\"M 6.664 28.158688  L 23.324 28.158688  L 23.324 22.327688  L 6.664 22.327688  z \" style=\"fill:#fefebb;stroke:#444443;stroke-linejoin:miter;stroke-width:0.4;\" />\n",
       "    </g>\n",
       "    <g id=\"text_2\">\n",
       "     \n",
       "     <defs>\n",
       "      <path d=\"M 18.015625 34.8125  L 18.015625 8.109375  L 29.6875 8.109375  Q 38.28125 8.109375 41.9375 11.109375  Q 45.609375 14.109375 45.609375 21  Q 45.609375 28.125 41.75 31.46875  Q 37.890625 34.8125 29.6875 34.8125  z M 18.015625 64.796875  L 18.015625 42.828125  L 29.5 42.828125  Q 36.625 42.828125 39.8125 45.5625  Q 43.015625 48.296875 43.015625 54.390625  Q 43.015625 59.90625 39.859375 62.34375  Q 36.71875 64.796875 29.5 64.796875  z M 8.109375 72.90625  L 29.6875 72.90625  Q 40.875 72.90625 46.921875 68.0625  Q 52.984375 63.234375 52.984375 54.390625  Q 52.984375 47.703125 49.78125 43.84375  Q 46.578125 39.984375 40.1875 39.015625  Q 47.359375 37.9375 51.4375 32.875  Q 55.515625 27.828125 55.515625 20.015625  Q 55.515625 10.109375 49.015625 5.046875  Q 42.53125 0 29.6875 0  L 8.109375 0  z \" id=\"DejaVuSansMono-66\" />\n",
       "      <path d=\"M 34.28125 27.484375  L 31.296875 27.484375  Q 23.4375 27.484375 19.453125 24.71875  Q 15.484375 21.96875 15.484375 16.5  Q 15.484375 11.578125 18.453125 8.84375  Q 21.4375 6.109375 26.703125 6.109375  Q 34.125 6.109375 38.375 11.25  Q 42.625 16.40625 42.671875 25.484375  L 42.671875 27.484375  z M 51.703125 31.203125  L 51.703125 0  L 42.671875 0  L 42.671875 8.109375  Q 39.796875 3.21875 35.421875 0.890625  Q 31.0625 -1.421875 24.8125 -1.421875  Q 16.453125 -1.421875 11.46875 3.296875  Q 6.5 8.015625 6.5 15.921875  Q 6.5 25.046875 12.625 29.78125  Q 18.75 34.515625 30.609375 34.515625  L 42.671875 34.515625  L 42.671875 35.9375  Q 42.625 42.484375 39.34375 45.4375  Q 36.078125 48.390625 28.90625 48.390625  Q 24.3125 48.390625 19.625 47.0625  Q 14.9375 45.75 10.5 43.21875  L 10.5 52.203125  Q 15.484375 54.109375 20.046875 55.046875  Q 24.609375 56 28.90625 56  Q 35.6875 56 40.5 54  Q 45.3125 52 48.296875 48  Q 50.140625 45.5625 50.921875 41.96875  Q 51.703125 38.375 51.703125 31.203125  z \" id=\"DejaVuSansMono-97\" />\n",
       "      <path d=\"M 41.890625 47.703125  L 41.890625 75.984375  L 50.875 75.984375  L 50.875 0  L 41.890625 0  L 41.890625 6.890625  Q 39.65625 2.828125 35.90625 0.703125  Q 32.171875 -1.421875 27.296875 -1.421875  Q 17.390625 -1.421875 11.6875 6.265625  Q 6 13.96875 6 27.484375  Q 6 40.828125 11.71875 48.40625  Q 17.4375 56 27.296875 56  Q 32.234375 56 35.984375 53.875  Q 39.75 51.765625 41.890625 47.703125  z M 15.484375 27.296875  Q 15.484375 16.84375 18.796875 11.515625  Q 22.125 6.203125 28.609375 6.203125  Q 35.109375 6.203125 38.5 11.5625  Q 41.890625 16.9375 41.890625 27.296875  Q 41.890625 37.703125 38.5 43.046875  Q 35.109375 48.390625 28.609375 48.390625  Q 22.125 48.390625 18.796875 43.0625  Q 15.484375 37.75 15.484375 27.296875  z \" id=\"DejaVuSansMono-100\" />\n",
       "     </defs>\n",
       "     <g style=\"fill:#444443;\" transform=\"translate(26.2395 28.158688)scale(0.1 -0.1)\">\n",
       "      <use xlink:href=\"#DejaVuSansMono-66\" />\n",
       "      <use x=\"60.205078\" xlink:href=\"#DejaVuSansMono-97\" />\n",
       "      <use x=\"120.410156\" xlink:href=\"#DejaVuSansMono-100\" />\n",
       "     </g>\n",
       "    </g>\n",
       "    <g id=\"patch_4\">\n",
       "     <path d=\"M 6.664 42.054938  L 23.324 42.054938  L 23.324 36.223938  L 6.664 36.223938  z \" style=\"fill:#a1dab4;stroke:#444443;stroke-linejoin:miter;stroke-width:0.4;\" />\n",
       "    </g>\n",
       "    <g id=\"text_3\">\n",
       "     \n",
       "     <defs>\n",
       "      <path d=\"M 53.90625 6  Q 49.953125 2.34375 45 0.453125  Q 40.046875 -1.421875 34.28125 -1.421875  Q 20.40625 -1.421875 12.6875 8.515625  Q 4.984375 18.453125 4.984375 36.375  Q 4.984375 54.25 12.796875 64.234375  Q 20.609375 74.21875 34.515625 74.21875  Q 39.109375 74.21875 43.3125 72.921875  Q 47.515625 71.625 51.421875 69  L 51.421875 58.890625  Q 47.46875 62.640625 43.3125 64.421875  Q 39.15625 66.21875 34.515625 66.21875  Q 24.90625 66.21875 20.09375 58.765625  Q 15.28125 51.3125 15.28125 36.375  Q 15.28125 21.1875 19.9375 13.890625  Q 24.609375 6.59375 34.28125 6.59375  Q 37.546875 6.59375 40.015625 7.34375  Q 42.484375 8.109375 44.484375 9.71875  L 44.484375 29.296875  L 33.890625 29.296875  L 33.890625 37.40625  L 53.90625 37.40625  z \" id=\"DejaVuSansMono-71\" />\n",
       "      <path d=\"M 30.078125 48.390625  Q 23.25 48.390625 19.734375 43.0625  Q 16.21875 37.75 16.21875 27.296875  Q 16.21875 16.890625 19.734375 11.546875  Q 23.25 6.203125 30.078125 6.203125  Q 36.96875 6.203125 40.484375 11.546875  Q 44 16.890625 44 27.296875  Q 44 37.75 40.484375 43.0625  Q 36.96875 48.390625 30.078125 48.390625  z M 30.078125 56  Q 41.453125 56 47.484375 48.625  Q 53.515625 41.265625 53.515625 27.296875  Q 53.515625 13.28125 47.5 5.921875  Q 41.5 -1.421875 30.078125 -1.421875  Q 18.703125 -1.421875 12.6875 5.921875  Q 6.6875 13.28125 6.6875 27.296875  Q 6.6875 41.265625 12.6875 48.625  Q 18.703125 56 30.078125 56  z \" id=\"DejaVuSansMono-111\" />\n",
       "     </defs>\n",
       "     <g style=\"fill:#444443;\" transform=\"translate(26.2395 42.054938)scale(0.1 -0.1)\">\n",
       "      <use xlink:href=\"#DejaVuSansMono-71\" />\n",
       "      <use x=\"60.205078\" xlink:href=\"#DejaVuSansMono-111\" />\n",
       "      <use x=\"120.410156\" xlink:href=\"#DejaVuSansMono-111\" />\n",
       "      <use x=\"180.615234\" xlink:href=\"#DejaVuSansMono-100\" />\n",
       "     </g>\n",
       "    </g>\n",
       "   </g>\n",
       "  </g>\n",
       " </g>\n",
       "</svg></g>\n",
       "</g>\n",
       "</svg>"
      ],
      "text/plain": [
       "<dtreeviz.trees.DTreeViz at 0x7f584f01bfa0>"
      ]
     },
     "execution_count": 6,
     "metadata": {},
     "output_type": "execute_result"
    }
   ],
   "source": [
    "## Note: set fancy=False because dtreeviz is throwing errors otherwise\n",
    "viz = dtreeviz(dt_classifier, X, 1*(y==\"Good\"),\n",
    "               target_name=\"Credit\",\n",
    "               feature_names = X.columns.values,\n",
    "               class_names=[\"Bad\", \"Good\"],\n",
    "               fancy=False)\n",
    "\n",
    "viz"
   ]
  },
  {
   "cell_type": "markdown",
   "metadata": {},
   "source": [
    "## Random Forests"
   ]
  },
  {
   "cell_type": "markdown",
   "metadata": {},
   "source": [
    "As discussed in the lecture videos, Decision Tree algorithms also have certain undesireable properties. Mainly the have low bias, which is good, but tend to have high variance - which is *not* so good (more about this problem here: https://en.wikipedia.org/wiki/Bias%E2%80%93variance_tradeoff)."
   ]
  },
  {
   "cell_type": "markdown",
   "metadata": {},
   "source": [
    "Noticing these problems, the late Professor Leo Breiman, in 2001, developed the Random Forests algorithm, which mitigates these problems, while at the same time providing even higher predictive accuracy than the majority of Decision Tree algorithm implementations. While the curriculum contains two excellent lectures on Random Forests, if you're interested, you can dive into the original paper here: https://link.springer.com/content/pdf/10.1023%2FA%3A1010933404324.pdf."
   ]
  },
  {
   "cell_type": "markdown",
   "metadata": {},
   "source": [
    "In the next part of this assignment, your are going to use the same \"German Credit\" dataset to train, tune, and measure the performance of a Random Forests model. You will also see certain functionalities that this model, even though it's a bit of a \"black box\", provides for some degree of interpretability."
   ]
  },
  {
   "cell_type": "markdown",
   "metadata": {},
   "source": [
    "First, let's build a Random Forests model, using the same best practices that you've used for your Decision Trees model. You can reuse the things you've already imported there, so no need to do any re-imports, new train/test splits, or loading up the data again."
   ]
  },
  {
   "cell_type": "code",
   "execution_count": 8,
   "metadata": {},
   "outputs": [],
   "source": [
    "from sklearn.ensemble import RandomForestClassifier"
   ]
  },
  {
   "cell_type": "code",
   "execution_count": 15,
   "metadata": {},
   "outputs": [
    {
     "name": "stdout",
     "output_type": "stream",
     "text": [
      "{'ccp_alpha': 0.003, 'max_depth': 8, 'max_features': None, 'min_samples_leaf': 2, 'min_samples_split': 2}\n",
      "              precision    recall  f1-score   support\n",
      "\n",
      "         Bad       0.62      0.47      0.53        83\n",
      "        Good       0.81      0.89      0.85       217\n",
      "\n",
      "    accuracy                           0.77       300\n",
      "   macro avg       0.72      0.68      0.69       300\n",
      "weighted avg       0.76      0.77      0.76       300\n",
      "\n"
     ]
    }
   ],
   "source": [
    "search = GridSearchCV(\n",
    "    RandomForestClassifier(random_state=42), {\n",
    "        \"max_depth\": [3, 4, 5, 6, 7, 8, 9],\n",
    "        \"ccp_alpha\": [0.002, 0.003, 0.004, 0.005, 0.006, 0.007],\n",
    "        \"max_features\": [None, \"sqrt\"],\n",
    "        \"min_samples_leaf\": [2, 3, 4],\n",
    "        \"min_samples_split\": [2, 3]\n",
    "    },\n",
    "    scoring='accuracy',\n",
    "    n_jobs=-1)\n",
    "\n",
    "search.fit(X_train, y_train)\n",
    "print(search.best_params_)\n",
    "\n",
    "rf_classifier = search.best_estimator_\n",
    "y_pred = rf_classifier.predict(X_test)\n",
    "print(classification_report(y_test, y_pred))"
   ]
  },
  {
   "cell_type": "markdown",
   "metadata": {},
   "source": [
    "As mentioned, there are certain ways to \"peek\" into a model created by the Random Forests algorithm. The first, and most popular one, is the Feature Importance calculation functionality. This allows the ML practitioner to see an ordering of the importance of the features that have contributed the most to the predictive accuracy of the model. \n",
    "\n",
    "You can see how to use this in the scikit-learn documentation (http://scikit-learn.org/stable/modules/generated/sklearn.ensemble.RandomForestClassifier.html#sklearn.ensemble.RandomForestClassifier.feature_importances_). Now, if you tried this, you would just get an ordered table of not directly interpretable numeric values. Thus, it's much more useful to show the feature importance in a visual way. You can see an example of how that's done here: http://scikit-learn.org/stable/auto_examples/ensemble/plot_forest_importances.html#sphx-glr-auto-examples-ensemble-plot-forest-importances-py\n",
    "\n",
    "Now you try! Let's visualize the importance of features from your Random Forests model!"
   ]
  },
  {
   "cell_type": "code",
   "execution_count": 16,
   "metadata": {},
   "outputs": [],
   "source": [
    "from sklearn.inspection import permutation_importance\n",
    "result = permutation_importance(rf_classifier, X_test, y_test, n_repeats=10, random_state=42, n_jobs=-1)\n",
    "forest_importances = pd.Series(result.importances_mean, index=X.columns.values)"
   ]
  },
  {
   "cell_type": "code",
   "execution_count": 17,
   "metadata": {},
   "outputs": [
    {
     "data": {
      "image/png": "[encoded data removed]",
      "text/plain": [
       "<Figure size 576x576 with 1 Axes>"
      ]
     },
     "metadata": {
      "needs_background": "light"
     },
     "output_type": "display_data"
    }
   ],
   "source": [
    "importances_std = pd.Series(result.importances_std, index=forest_importances.index.values)\n",
    "most_important = forest_importances.abs().sort_values(ascending=False)[:10].index.values\n",
    "\n",
    "fig, ax = plt.subplots(figsize=(8,8))\n",
    "forest_importances[most_important].plot.bar(yerr=importances_std[most_important], ax=ax)\n",
    "ax.set_title(\"Feature importances using permutation on full model\")\n",
    "ax.set_ylabel(\"Mean accuracy decrease\")\n",
    "fig.tight_layout()\n",
    "plt.show()"
   ]
  },
  {
   "cell_type": "markdown",
   "metadata": {},
   "source": [
    "A final method for gaining some insight into the inner working of your Random Forests models is a so-called Partial Dependence Plot. The Partial Dependence Plot (PDP or PD plot) shows the marginal effect of a feature on the predicted outcome of a previously fit model. The prediction function is fixed at a few values of the chosen features and averaged over the other features. A partial dependence plot can show if the relationship between the target and a feature is linear, monotonic or more complex. \n",
    "\n",
    "In scikit-learn, PDPs are implemented and available for certain algorithms, but at this point (version 0.20.0) they are not yet implemented for Random Forests. Thankfully, there is an add-on package called **PDPbox** (https://pdpbox.readthedocs.io/en/latest/) which adds this functionality to Random Forests. The package is easy to install through pip."
   ]
  },
  {
   "cell_type": "code",
   "execution_count": 18,
   "metadata": {},
   "outputs": [],
   "source": [
    "#! pip install pdpbox\n",
    "import pdpbox\n",
    "from pdpbox import pdp"
   ]
  },
  {
   "cell_type": "markdown",
   "metadata": {},
   "source": [
    "While we encourage you to read the documentation for the package (and reading package documentation in general is a good habit to develop), the authors of the package have also written an excellent blog post on how to use it, showing examples on different algorithms from scikit-learn (the Random Forests example is towards the end of the blog post): https://briangriner.github.io/Partial_Dependence_Plots_presentation-BrianGriner-PrincetonPublicLibrary-4.14.18-updated-4.22.18.html"
   ]
  },
  {
   "cell_type": "markdown",
   "metadata": {},
   "source": [
    "So, armed with this new knowledge, feel free to pick a few features, and make a couple of Partial Dependence Plots of your own!"
   ]
  },
  {
   "cell_type": "code",
   "execution_count": 20,
   "metadata": {},
   "outputs": [
    {
     "data": {
      "text/plain": [
       "(<Figure size 540x684 with 3 Axes>,\n",
       " {'title_ax': <matplotlib.axes._subplots.AxesSubplot at 0x7f584e7eeb80>,\n",
       "  'pdp_inter_ax': <matplotlib.axes._subplots.AxesSubplot at 0x7f5847f86400>})"
      ]
     },
     "execution_count": 20,
     "metadata": {},
     "output_type": "execute_result"
    },
    {
     "name": "stderr",
     "output_type": "stream",
     "text": [
      "findfont: Font family ['Arial'] not found. Falling back to DejaVu Sans.\n",
      "findfont: Font family ['Arial'] not found. Falling back to DejaVu Sans.\n",
      "findfont: Font family ['Arial'] not found. Falling back to DejaVu Sans.\n",
      "findfont: Font family ['Arial'] not found. Falling back to DejaVu Sans.\n"
     ]
    },
    {
     "data": {
      "image/png": "[encoded data removed]",
      "text/plain": [
       "<Figure size 540x684 with 3 Axes>"
      ]
     },
     "metadata": {
      "needs_background": "light"
     },
     "output_type": "display_data"
    }
   ],
   "source": [
    "pdp_i = pdp.pdp_interact(rf_classifier, X, X.columns.values, ['Age', 'Duration'])\n",
    "pdp.pdp_interact_plot(pdp_i, ['Age', 'Duration'])"
   ]
  },
  {
   "cell_type": "markdown",
   "metadata": {},
   "source": [
    "## (Optional) Advanced Boosting-Based Algorithms"
   ]
  },
  {
   "cell_type": "markdown",
   "metadata": {},
   "source": [
    "As explained in the video lectures, the next generation of algorithms after Random Forests (that use Bagging, a.k.a. Bootstrap Aggregation) were developed using Boosting, and the first one of these were Gradient Boosted Machines, which are implemented in scikit-learn (http://scikit-learn.org/stable/modules/ensemble.html#gradient-tree-boosting)."
   ]
  },
  {
   "cell_type": "markdown",
   "metadata": {},
   "source": [
    "Still, in recent years, a number of variations on GBMs have been developed by different research amd industry groups, all of them bringing improvements, both in speed, accuracy and functionality to the original Gradient Boosting algorithms.\n",
    "\n",
    "In no order of preference, these are:\n",
    "1. **XGBoost**: https://xgboost.readthedocs.io/en/latest/\n",
    "2. **CatBoost**: https://tech.yandex.com/catboost/\n",
    "3. **LightGBM**: https://lightgbm.readthedocs.io/en/latest/"
   ]
  },
  {
   "cell_type": "markdown",
   "metadata": {},
   "source": [
    "If you're using the Anaconda distribution, these are all very easy to install:"
   ]
  },
  {
   "cell_type": "code",
   "execution_count": null,
   "metadata": {},
   "outputs": [],
   "source": [
    "! conda install -c anaconda py-xgboost"
   ]
  },
  {
   "cell_type": "code",
   "execution_count": null,
   "metadata": {},
   "outputs": [],
   "source": [
    "! conda install -c conda-forge catboost"
   ]
  },
  {
   "cell_type": "code",
   "execution_count": null,
   "metadata": {},
   "outputs": [],
   "source": [
    "! conda install -c conda-forge lightgbm"
   ]
  },
  {
   "cell_type": "markdown",
   "metadata": {},
   "source": [
    "Your task in this optional section of the mini project is to read the documentation of these three libraries, and apply all of them to the \"German Credit\" dataset, just like you did in the case of Decision Trees and Random Forests."
   ]
  },
  {
   "cell_type": "markdown",
   "metadata": {},
   "source": [
    "The final deliverable of this section should be a table (can be a pandas DataFrame) which shows the accuracy of all the five algorthms taught in this mini project in one place."
   ]
  },
  {
   "cell_type": "markdown",
   "metadata": {},
   "source": [
    "Happy modeling! :)"
   ]
  },
  {
   "cell_type": "code",
   "execution_count": 248,
   "metadata": {},
   "outputs": [],
   "source": [
    "import xgboost"
   ]
  },
  {
   "cell_type": "code",
   "execution_count": null,
   "metadata": {},
   "outputs": [],
   "source": []
  }
 ],
 "metadata": {
  "kernelspec": {
   "display_name": "Python 3",
   "language": "python",
   "name": "python3"
  },
  "language_info": {
   "codemirror_mode": {
    "name": "ipython",
    "version": 3
   },
   "file_extension": ".py",
   "mimetype": "text/x-python",
   "name": "python",
   "nbconvert_exporter": "python",
   "pygments_lexer": "ipython3",
   "version": "3.9.4"
  }
 },
 "nbformat": 4,
 "nbformat_minor": 4
}
