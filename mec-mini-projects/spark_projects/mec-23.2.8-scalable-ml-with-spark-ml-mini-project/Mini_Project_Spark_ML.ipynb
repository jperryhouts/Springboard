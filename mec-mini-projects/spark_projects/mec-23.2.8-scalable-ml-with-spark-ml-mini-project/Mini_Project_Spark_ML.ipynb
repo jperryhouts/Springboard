{
 "cells": [
  {
   "cell_type": "markdown",
   "metadata": {},
   "source": [
    "## Exercise Overview\n",
    "In this exercise we will play with Spark [Datasets & Dataframes](https://spark.apache.org/docs/latest/sql-programming-guide.html#datasets-and-dataframes), some [Spark SQL](https://spark.apache.org/docs/latest/sql-programming-guide.html#sql), and build a couple of binary classifiaction models using [Spark ML](https://spark.apache.org/docs/latest/ml-guide.html) (with some [MLlib](https://spark.apache.org/mllib/) too). \n",
    "<br><br>\n",
    "The set up and approach will not be too dissimilar to the standard type of approach you might do in [Sklearn](http://scikit-learn.org/stable/index.html). Spark has matured to the stage now where for 90% of what you need to do (when analysing tabular data) should be possible with Spark dataframes, SQL, and ML libraries. This is where this exercise is mainly trying to focus.  \n",
    "<br>\n",
    "Feel free to adapt this exercise to play with other datasets readily availabe in the Databricks enviornment (they are listed in a cell below). \n",
    "\n",
    "##### Getting Started\n",
    "To get started you will need to create and attach a databricks spark cluster to this notebook. This notebook was developed on a cluster created with: \n",
    "- Databricks Runtime Version 4.0 (includes Apache Spark 2.3.0, Scala 2.11)\n",
    "- Python Version 3\n",
    "\n",
    "##### Links & References\n",
    "\n",
    "Some useful links and references of sources used in creating this exercise:\n",
    "\n",
    "**Note**: Right click and open as new tab!\n",
    "<br>\n",
    "1. [Latest Spark Docs](https://spark.apache.org/docs/latest/index.html)\n",
    "1. [Databricks Homepage](https://databricks.com/)\n",
    "1. [Databricks Community Edition FAQ](https://databricks.com/product/faq/community-edition)\n",
    "1. [Databricks Self Paced Training](https://databricks.com/training-overview/training-self-paced)\n",
    "1. [Databricks Notebook Guide](https://docs.databricks.com/user-guide/notebooks/index.html)\n",
    "1. [Databricks Binary Classification Tutorial](https://docs.databricks.com/spark/latest/mllib/binary-classification-mllib-pipelines.html#binary-classification)"
   ]
  },
  {
   "cell_type": "markdown",
   "metadata": {},
   "source": [
    "#### Get Data\n",
    "\n",
    "Here we will pull in some sample data that is already pre-loaded onto all databricks clusters.\n",
    "\n",
    "Feel free to adapt this notebook later to play around with a different dataset if you like (all available are listed in a cell below)."
   ]
  },
  {
   "cell_type": "code",
   "execution_count": null,
   "metadata": {},
   "outputs": [],
   "source": [
    "## display datasets already in databricks\n",
    "# display(dbutils.fs.ls(\"/databricks-datasets\"))"
   ]
  },
  {
   "cell_type": "markdown",
   "metadata": {},
   "source": [
    "Lets take a look at the '**adult**' dataset on the filesystem. This is the typical US Census data you often see online in tutorials. [Here](https://archive.ics.uci.edu/ml/datasets/adult) is the same data in the UCI repository.\n",
    "\n",
    "_As an aside: [here](https://github.com/GoogleCloudPlatform/cloudml-samples/tree/master/census) this same dataset is used as a quickstart example for Google CLoud ML & Tensorflow Estimator API (in case youd be interested in playing with tensorflow on the same dataset as here)._"
   ]
  },
  {
   "cell_type": "code",
   "execution_count": null,
   "metadata": {},
   "outputs": [],
   "source": [
    "# %fs ls databricks-datasets/adult/adult.data"
   ]
  },
  {
   "cell_type": "markdown",
   "metadata": {},
   "source": [
    "**Note**: Above  %fs is just some file system cell magic that is specific to databricks. More info [here](https://docs.databricks.com/user-guide/notebooks/index.html#mix-languages)."
   ]
  },
  {
   "cell_type": "markdown",
   "metadata": {},
   "source": [
    "#### Spark SQL\n",
    "\n",
    "Below we will use Spark SQL to load in the data and then register it as a Dataframe aswell. So the end result will be a Spark SQL table called _adult_ and a Spark Dataframe called _df_adult_. \n",
    "<br><br>\n",
    "This is an example of the flexibility in Spark in that you could do lots of you ETL and data wrangling using either Spark SQL or Dataframes and pyspark. Most of the time it's a case of using whatever you are most comfortable with.\n",
    "<br><br>\n",
    "When you get more advanced then you might looking the pro's and con's of each and when you might favour one or the other (or operating direclty on RDD's), [here](https://databricks.com/blog/2016/07/14/a-tale-of-three-apache-spark-apis-rdds-dataframes-and-datasets.html) is a good article on the issues. For now, no need to overthink it!"
   ]
  },
  {
   "cell_type": "raw",
   "metadata": {},
   "source": [
    "%sql \n",
    "-- drop the table if it already exists\n",
    "DROP TABLE IF EXISTS adult"
   ]
  },
  {
   "cell_type": "raw",
   "metadata": {},
   "source": [
    "%sql\n",
    "-- create a new table in Spark SQL from the datasets already loaded in the underlying filesystem.\n",
    "-- In the real world you might be pointing at a file on HDFS or a hive table etc. \n",
    "CREATE TABLE adult (\n",
    "  age DOUBLE,\n",
    "  workclass STRING,\n",
    "  fnlwgt DOUBLE,\n",
    "  education STRING,\n",
    "  education_num DOUBLE,\n",
    "  marital_status STRING,\n",
    "  occupation STRING,\n",
    "  relationship STRING,\n",
    "  race STRING,\n",
    "  sex STRING,\n",
    "  capital_gain DOUBLE,\n",
    "  capital_loss DOUBLE,\n",
    "  hours_per_week DOUBLE,\n",
    "  native_country STRING,\n",
    "  income STRING)\n",
    "USING com.databricks.spark.csv\n",
    "OPTIONS (path \"/databricks-datasets/adult/adult.data\", header \"true\")"
   ]
  },
  {
   "cell_type": "code",
   "execution_count": 1,
   "metadata": {},
   "outputs": [],
   "source": [
    "import pyspark"
   ]
  },
  {
   "cell_type": "code",
   "execution_count": 2,
   "metadata": {},
   "outputs": [],
   "source": [
    "sc = pyspark.SparkContext()\n",
    "spark = pyspark.sql.SparkSession.builder.getOrCreate()\n",
    "sqlContext = pyspark.sql.SQLContext(spark)"
   ]
  },
  {
   "cell_type": "code",
   "execution_count": 3,
   "metadata": {},
   "outputs": [],
   "source": [
    "schema = pyspark.sql.types.StructType([\n",
    "    pyspark.sql.types.StructField(\"age\", pyspark.sql.types.DoubleType(), True),\n",
    "    pyspark.sql.types.StructField(\"workclass\", pyspark.sql.types.StringType(), True),\n",
    "    pyspark.sql.types.StructField(\"fnlwgt\", pyspark.sql.types.DoubleType(), True),\n",
    "    pyspark.sql.types.StructField(\"education\", pyspark.sql.types.StringType(), True),\n",
    "    pyspark.sql.types.StructField(\"education_num\", pyspark.sql.types.DoubleType(), True),\n",
    "    pyspark.sql.types.StructField(\"marital_status\", pyspark.sql.types.StringType(), True),\n",
    "    pyspark.sql.types.StructField(\"occupation\", pyspark.sql.types.StringType(), True),\n",
    "    pyspark.sql.types.StructField(\"relationship\", pyspark.sql.types.StringType(), True),\n",
    "    pyspark.sql.types.StructField(\"race\", pyspark.sql.types.StringType(), True),\n",
    "    pyspark.sql.types.StructField(\"sex\", pyspark.sql.types.StringType(), True),\n",
    "    pyspark.sql.types.StructField(\"capital_gain\", pyspark.sql.types.DoubleType(), True),\n",
    "    pyspark.sql.types.StructField(\"capital_loss\", pyspark.sql.types.DoubleType(), True),\n",
    "    pyspark.sql.types.StructField(\"hours_per_week\", pyspark.sql.types.DoubleType(), True),\n",
    "    pyspark.sql.types.StructField(\"native_country\", pyspark.sql.types.StringType(), True),\n",
    "    pyspark.sql.types.StructField(\"income\", pyspark.sql.types.StringType(), True),\n",
    "])"
   ]
  },
  {
   "cell_type": "code",
   "execution_count": 4,
   "metadata": {},
   "outputs": [],
   "source": [
    "df = spark.read.csv('adult.csv', schema=schema, header=True)"
   ]
  },
  {
   "cell_type": "code",
   "execution_count": 5,
   "metadata": {},
   "outputs": [
    {
     "name": "stdout",
     "output_type": "stream",
     "text": [
      "+---+----------------+-------+---------+-------------+------------------+---------------+-------------+-----+----+------------+------------+--------------+--------------+------+\n",
      "|age|       workclass| fnlwgt|education|education_num|    marital_status|     occupation| relationship| race| sex|capital_gain|capital_loss|hours_per_week|native_country|income|\n",
      "+---+----------------+-------+---------+-------------+------------------+---------------+-------------+-----+----+------------+------------+--------------+--------------+------+\n",
      "|2.0|       State-gov|77516.0|Bachelors|         13.0|     Never-married|   Adm-clerical|Not-in-family|White|Male|         1.0|         0.0|           2.0| United-States| <=50K|\n",
      "|3.0|Self-emp-not-inc|83311.0|Bachelors|         13.0|Married-civ-spouse|Exec-managerial|      Husband|White|Male|         0.0|         0.0|           0.0| United-States| <=50K|\n",
      "+---+----------------+-------+---------+-------------+------------------+---------------+-------------+-----+----+------------+------------+--------------+--------------+------+\n",
      "only showing top 2 rows\n",
      "\n"
     ]
    }
   ],
   "source": [
    "df.show(2)"
   ]
  },
  {
   "cell_type": "code",
   "execution_count": 6,
   "metadata": {},
   "outputs": [],
   "source": [
    "df.createOrReplaceTempView(\"adult\")"
   ]
  },
  {
   "cell_type": "code",
   "execution_count": 7,
   "metadata": {},
   "outputs": [
    {
     "name": "stdout",
     "output_type": "stream",
     "text": [
      "+---+----------------+--------+---------+-------------+------------------+-----------------+-------------+-----+------+------------+------------+--------------+--------------+------+\n",
      "|age|       workclass|  fnlwgt|education|education_num|    marital_status|       occupation| relationship| race|   sex|capital_gain|capital_loss|hours_per_week|native_country|income|\n",
      "+---+----------------+--------+---------+-------------+------------------+-----------------+-------------+-----+------+------------+------------+--------------+--------------+------+\n",
      "|2.0|       State-gov| 77516.0|Bachelors|         13.0|     Never-married|     Adm-clerical|Not-in-family|White|  Male|         1.0|         0.0|           2.0| United-States| <=50K|\n",
      "|3.0|Self-emp-not-inc| 83311.0|Bachelors|         13.0|Married-civ-spouse|  Exec-managerial|      Husband|White|  Male|         0.0|         0.0|           0.0| United-States| <=50K|\n",
      "|2.0|         Private|215646.0|  HS-grad|          9.0|          Divorced|Handlers-cleaners|Not-in-family|White|  Male|         0.0|         0.0|           2.0| United-States| <=50K|\n",
      "|3.0|         Private|234721.0|     11th|          7.0|Married-civ-spouse|Handlers-cleaners|      Husband|Black|  Male|         0.0|         0.0|           2.0| United-States| <=50K|\n",
      "|1.0|         Private|338409.0|Bachelors|         13.0|Married-civ-spouse|   Prof-specialty|         Wife|Black|Female|         0.0|         0.0|           2.0|          Cuba| <=50K|\n",
      "+---+----------------+--------+---------+-------------+------------------+-----------------+-------------+-----+------+------------+------------+--------------+--------------+------+\n",
      "\n"
     ]
    }
   ],
   "source": [
    "spark.sql(\"SELECT * FROM adult LIMIT 5\").show()"
   ]
  },
  {
   "cell_type": "markdown",
   "metadata": {},
   "source": [
    "If you are more comfortable with SQL then as you can see below, its very easy to just get going with writing standard SQL type code to analyse your data, do data wrangling and create new dataframes."
   ]
  },
  {
   "cell_type": "code",
   "execution_count": 8,
   "metadata": {},
   "outputs": [
    {
     "name": "stdout",
     "output_type": "stream",
     "text": [
      "+-----------------+----+------------+----------+------------+--------------+-------------+\n",
      "|       occupation|   n|married_rate|widow_rate|divorce_rate|separated_rate|bachelor_rate|\n",
      "+-----------------+----+------------+----------+------------+--------------+-------------+\n",
      "|   Prof-specialty|6172|        0.53|      0.02|        0.13|          0.02|          0.3|\n",
      "|     Craft-repair|6112|        0.64|      0.01|        0.11|          0.03|         0.21|\n",
      "|  Exec-managerial|6086|         0.6|      0.03|        0.15|          0.02|         0.21|\n",
      "|     Adm-clerical|5611|        0.28|      0.04|        0.21|          0.04|         0.42|\n",
      "|            Sales|5504|        0.46|      0.03|        0.12|          0.03|         0.36|\n",
      "|    Other-service|4923|        0.24|      0.05|        0.15|          0.06|          0.5|\n",
      "|Machine-op-inspct|3022|         0.5|      0.03|        0.14|          0.04|         0.29|\n",
      "|             null|2809|        0.35|      0.08|         0.1|          0.03|         0.44|\n",
      "| Transport-moving|2355|        0.65|      0.02|        0.11|          0.02|         0.21|\n",
      "|Handlers-cleaners|2072|        0.37|      0.01|         0.1|          0.03|          0.5|\n",
      "|  Farming-fishing|1490|        0.61|      0.03|        0.06|          0.02|         0.29|\n",
      "|     Tech-support|1446|        0.43|      0.02|        0.17|          0.03|         0.35|\n",
      "|  Protective-serv| 983|         0.6|      0.01|        0.12|          0.02|         0.24|\n",
      "|  Priv-house-serv| 242|        0.15|      0.17|        0.19|          0.09|         0.41|\n",
      "|     Armed-Forces|  15|        0.47|       0.0|         0.0|           0.0|         0.53|\n",
      "+-----------------+----+------------+----------+------------+--------------+-------------+\n",
      "\n"
     ]
    }
   ],
   "source": [
    "# Lets get some summary marital status rates by occupation\n",
    "result = spark.sql(\n",
    "  \"\"\"\n",
    "  SELECT \n",
    "    occupation,\n",
    "    SUM(1) as n,\n",
    "    ROUND(AVG(if(LTRIM(marital_status) LIKE 'Married-%',1,0)),2) as married_rate,\n",
    "    ROUND(AVG(if(lower(marital_status) LIKE '%widow%',1,0)),2) as widow_rate,\n",
    "    ROUND(AVG(if(LTRIM(marital_status) = 'Divorced',1,0)),2) as divorce_rate,\n",
    "    ROUND(AVG(if(LTRIM(marital_status) = 'Separated',1,0)),2) as separated_rate,\n",
    "    ROUND(AVG(if(LTRIM(marital_status) = 'Never-married',1,0)),2) as bachelor_rate\n",
    "  FROM \n",
    "    adult \n",
    "  GROUP BY 1\n",
    "  ORDER BY n DESC\n",
    "  \"\"\")\n",
    "#display(result)\n",
    "result.show()"
   ]
  },
  {
   "cell_type": "markdown",
   "metadata": {},
   "source": [
    "You can easily register dataframes as a table for Spark SQL too. So this way you can easily move between Dataframes and Spark SQL for whatever reason."
   ]
  },
  {
   "cell_type": "code",
   "execution_count": 9,
   "metadata": {},
   "outputs": [
    {
     "name": "stdout",
     "output_type": "stream",
     "text": [
      "+---------------+----+------------+----------+------------+--------------+-------------+\n",
      "|     occupation|   n|married_rate|widow_rate|divorce_rate|separated_rate|bachelor_rate|\n",
      "+---------------+----+------------+----------+------------+--------------+-------------+\n",
      "| Prof-specialty|6172|        0.53|      0.02|        0.13|          0.02|          0.3|\n",
      "|   Craft-repair|6112|        0.64|      0.01|        0.11|          0.03|         0.21|\n",
      "|Exec-managerial|6086|         0.6|      0.03|        0.15|          0.02|         0.21|\n",
      "|   Adm-clerical|5611|        0.28|      0.04|        0.21|          0.04|         0.42|\n",
      "|          Sales|5504|        0.46|      0.03|        0.12|          0.03|         0.36|\n",
      "+---------------+----+------------+----------+------------+--------------+-------------+\n",
      "only showing top 5 rows\n",
      "\n"
     ]
    }
   ],
   "source": [
    "# register the df we just made as a table for spark sql\n",
    "sqlContext.registerDataFrameAsTable(result, \"result\")\n",
    "spark.sql(\"SELECT * FROM result\").show(5)"
   ]
  },
  {
   "cell_type": "markdown",
   "metadata": {},
   "source": [
    "#### <span style=\"color:darkblue\">Question 1</span>\n",
    "\n",
    "1. Write some spark sql to get the top 'bachelor_rate' by 'education' group?"
   ]
  },
  {
   "cell_type": "code",
   "execution_count": 10,
   "metadata": {},
   "outputs": [
    {
     "name": "stdout",
     "output_type": "stream",
     "text": [
      "+------------+-------------+\n",
      "|   education|bachelor_rate|\n",
      "+------------+-------------+\n",
      "|   Preschool|         0.46|\n",
      "|     1st-4th|          0.2|\n",
      "|     5th-6th|         0.25|\n",
      "|     7th-8th|         0.17|\n",
      "|         9th|         0.29|\n",
      "|        10th|         0.38|\n",
      "|        11th|          0.5|\n",
      "|        12th|         0.53|\n",
      "|     HS-grad|          0.3|\n",
      "|Some-college|         0.41|\n",
      "|   Assoc-voc|         0.26|\n",
      "|  Assoc-acdm|         0.33|\n",
      "|   Bachelors|         0.33|\n",
      "|     Masters|         0.24|\n",
      "| Prof-school|         0.17|\n",
      "|   Doctorate|         0.16|\n",
      "+------------+-------------+\n",
      "\n"
     ]
    }
   ],
   "source": [
    "### Question 1.1 Answer ###\n",
    "result = spark.sql(\n",
    "  \"\"\"\n",
    "  SELECT \n",
    "    FIRST(education) as education,\n",
    "    ROUND(AVG(if(LTRIM(marital_status) = 'Never-married',1,0)),2) as bachelor_rate\n",
    "  FROM \n",
    "    adult \n",
    "  GROUP BY education_num\n",
    "  ORDER BY education_num\n",
    "  \"\"\")\n",
    "result.show()"
   ]
  },
  {
   "cell_type": "markdown",
   "metadata": {},
   "source": [
    "#### Spark DataFrames\n",
    "\n",
    "Below we will create our DataFrame from the SQL table and do some similar analysis as we did with Spark SQL but using the DataFrames API."
   ]
  },
  {
   "cell_type": "code",
   "execution_count": 11,
   "metadata": {},
   "outputs": [],
   "source": [
    "# register a df from the sql df\n",
    "df_adult = spark.table(\"adult\")\n",
    "cols = df_adult.columns # this will be used much later in the notebook, ignore for now"
   ]
  },
  {
   "cell_type": "code",
   "execution_count": 12,
   "metadata": {},
   "outputs": [
    {
     "name": "stdout",
     "output_type": "stream",
     "text": [
      "root\n",
      " |-- age: double (nullable = true)\n",
      " |-- workclass: string (nullable = true)\n",
      " |-- fnlwgt: double (nullable = true)\n",
      " |-- education: string (nullable = true)\n",
      " |-- education_num: double (nullable = true)\n",
      " |-- marital_status: string (nullable = true)\n",
      " |-- occupation: string (nullable = true)\n",
      " |-- relationship: string (nullable = true)\n",
      " |-- race: string (nullable = true)\n",
      " |-- sex: string (nullable = true)\n",
      " |-- capital_gain: double (nullable = true)\n",
      " |-- capital_loss: double (nullable = true)\n",
      " |-- hours_per_week: double (nullable = true)\n",
      " |-- native_country: string (nullable = true)\n",
      " |-- income: string (nullable = true)\n",
      "\n"
     ]
    }
   ],
   "source": [
    "# look at df schema\n",
    "df_adult.printSchema()"
   ]
  },
  {
   "cell_type": "code",
   "execution_count": 13,
   "metadata": {},
   "outputs": [
    {
     "name": "stdout",
     "output_type": "stream",
     "text": [
      "+---+----------------+--------+---------+-------------+------------------+-----------------+-------------+-----+------+------------+------------+--------------+--------------+------+\n",
      "|age|       workclass|  fnlwgt|education|education_num|    marital_status|       occupation| relationship| race|   sex|capital_gain|capital_loss|hours_per_week|native_country|income|\n",
      "+---+----------------+--------+---------+-------------+------------------+-----------------+-------------+-----+------+------------+------------+--------------+--------------+------+\n",
      "|2.0|       State-gov| 77516.0|Bachelors|         13.0|     Never-married|     Adm-clerical|Not-in-family|White|  Male|         1.0|         0.0|           2.0| United-States| <=50K|\n",
      "|3.0|Self-emp-not-inc| 83311.0|Bachelors|         13.0|Married-civ-spouse|  Exec-managerial|      Husband|White|  Male|         0.0|         0.0|           0.0| United-States| <=50K|\n",
      "|2.0|         Private|215646.0|  HS-grad|          9.0|          Divorced|Handlers-cleaners|Not-in-family|White|  Male|         0.0|         0.0|           2.0| United-States| <=50K|\n",
      "|3.0|         Private|234721.0|     11th|          7.0|Married-civ-spouse|Handlers-cleaners|      Husband|Black|  Male|         0.0|         0.0|           2.0| United-States| <=50K|\n",
      "|1.0|         Private|338409.0|Bachelors|         13.0|Married-civ-spouse|   Prof-specialty|         Wife|Black|Female|         0.0|         0.0|           2.0|          Cuba| <=50K|\n",
      "+---+----------------+--------+---------+-------------+------------------+-----------------+-------------+-----+------+------------+------------+--------------+--------------+------+\n",
      "only showing top 5 rows\n",
      "\n"
     ]
    }
   ],
   "source": [
    "# look at the df\n",
    "#display(df_adult)\n",
    "df_adult.show(5)"
   ]
  },
  {
   "cell_type": "markdown",
   "metadata": {},
   "source": [
    "Below we will do a similar calculation to what we did above but using the DataFrames API"
   ]
  },
  {
   "cell_type": "code",
   "execution_count": 14,
   "metadata": {},
   "outputs": [],
   "source": [
    "# import what we will need\n",
    "#from pyspark.sql.functions import when, col, mean, desc, round\n",
    "import pyspark.sql.functions as sqlfunc"
   ]
  },
  {
   "cell_type": "code",
   "execution_count": 16,
   "metadata": {},
   "outputs": [
    {
     "name": "stdout",
     "output_type": "stream",
     "text": [
      "+-----------------+-------------+\n",
      "|       occupation|divorced_rate|\n",
      "+-----------------+-------------+\n",
      "|     Adm-clerical|         0.21|\n",
      "|  Priv-house-serv|         0.19|\n",
      "|     Tech-support|         0.17|\n",
      "|  Exec-managerial|         0.15|\n",
      "|    Other-service|         0.15|\n",
      "|Machine-op-inspct|         0.14|\n",
      "|   Prof-specialty|         0.13|\n",
      "|  Protective-serv|         0.12|\n",
      "|            Sales|         0.12|\n",
      "|     Craft-repair|         0.11|\n",
      "| Transport-moving|         0.11|\n",
      "|Handlers-cleaners|          0.1|\n",
      "|             null|          0.1|\n",
      "|  Farming-fishing|         0.06|\n",
      "|     Armed-Forces|          0.0|\n",
      "+-----------------+-------------+\n",
      "\n"
     ]
    }
   ],
   "source": [
    "# wrangle the data a bit\n",
    "df_result = df_adult.select(\n",
    "  df_adult['occupation'], \n",
    "  # create a 1/0 type col on the fly\n",
    "  sqlfunc.when( sqlfunc.col('marital_status') == 'Divorced' , 1 ).otherwise(0).alias('is_divorced')\n",
    ")\n",
    "# do grouping (and a round)\n",
    "df_result = df_result.groupBy('occupation').agg(sqlfunc.round(sqlfunc.mean('is_divorced'),2).alias('divorced_rate'))\n",
    "# do ordering\n",
    "df_result = df_result.orderBy(sqlfunc.desc('divorced_rate'))\n",
    "# show results\n",
    "df_result.show()"
   ]
  },
  {
   "cell_type": "markdown",
   "metadata": {},
   "source": [
    "As you can see the dataframes api is a bit more verbose then just expressing what you want to do in standard SQL.<br><br>But some prefer it and might be more used to it, and there could be cases where expressing what you need to do might just be better using the DataFrame API if it is too complicated for a simple SQL expression for example of maybe involves recursion of some type."
   ]
  },
  {
   "cell_type": "markdown",
   "metadata": {},
   "source": [
    "#### <span style=\"color:darkblue\">Question 2</span>\n",
    "1. Write some pyspark to get the top 'bachelor_rate' by 'education' group using DataFrame operations?"
   ]
  },
  {
   "cell_type": "code",
   "execution_count": 18,
   "metadata": {},
   "outputs": [
    {
     "name": "stdout",
     "output_type": "stream",
     "text": [
      "+---------+-------------+\n",
      "|education|bachelor_rate|\n",
      "+---------+-------------+\n",
      "|     12th|         0.53|\n",
      "+---------+-------------+\n",
      "only showing top 1 row\n",
      "\n"
     ]
    }
   ],
   "source": [
    "### Question 2.1 Answer ###\n",
    "\n",
    "# wrangle the data a bit\n",
    "df_result = df_adult.select(\n",
    "  df_adult['education'], \n",
    "  # create a 1/0 type col on the fly\n",
    "  sqlfunc.when( sqlfunc.col('marital_status') == 'Never-married' , 1 ).otherwise(0).alias('is_bachelor')\n",
    ")\n",
    "# do grouping (and a round)\n",
    "df_result = df_result.groupBy('education').agg(sqlfunc.round(sqlfunc.mean('is_bachelor'),2).alias('bachelor_rate'))\n",
    "# do ordering\n",
    "df_result = df_result.orderBy(sqlfunc.desc('bachelor_rate'))\n",
    "# show results\n",
    "df_result.show(1)"
   ]
  },
  {
   "cell_type": "markdown",
   "metadata": {},
   "source": [
    "#### Explore & Visualize Data\n",
    "\n",
    "It's very easy to [collect()](https://spark.apache.org/docs/latest/rdd-programming-guide.html#printing-elements-of-an-rdd) your Spark DataFrame data into a Pandas df and then continue to analyse or plot as you might normally.\n",
    "<br><br>\n",
    "Obviously if you try to collect() a huge DataFrame then you will run into issues, so usually you would only collect aggregated or sampled data into a Pandas df."
   ]
  },
  {
   "cell_type": "code",
   "execution_count": 19,
   "metadata": {},
   "outputs": [
    {
     "name": "stdout",
     "output_type": "stream",
     "text": [
      "        occupation  plus_50k\n",
      "0  Exec-managerial  0.477818\n",
      "1   Prof-specialty  0.451069\n",
      "2     Armed-Forces  0.333333\n",
      "3  Protective-serv  0.313327\n",
      "4     Tech-support  0.290456\n"
     ]
    }
   ],
   "source": [
    "import pandas as pd\n",
    "\n",
    "# do some analysis\n",
    "result = spark.sql(\n",
    "  \"\"\"\n",
    "  SELECT \n",
    "    occupation,\n",
    "    AVG(IF(income = '>50K',1,0)) as plus_50k\n",
    "  FROM \n",
    "    adult \n",
    "  GROUP BY 1\n",
    "  ORDER BY 2 DESC\n",
    "  \"\"\")\n",
    "\n",
    "# collect results into a pandas df\n",
    "df_pandas = pd.DataFrame(\n",
    "  result.collect(),\n",
    "  columns=result.schema.names\n",
    ")\n",
    "\n",
    "# look at df\n",
    "print(df_pandas.head())"
   ]
  },
  {
   "cell_type": "code",
   "execution_count": 20,
   "metadata": {},
   "outputs": [
    {
     "name": "stdout",
     "output_type": "stream",
     "text": [
      "        plus_50k\n",
      "count  15.000000\n",
      "mean    0.210358\n",
      "std     0.143670\n",
      "min     0.012397\n",
      "25%     0.105224\n",
      "50%     0.204246\n",
      "75%     0.301891\n",
      "max     0.477818\n"
     ]
    }
   ],
   "source": [
    "print(df_pandas.describe())"
   ]
  },
  {
   "cell_type": "code",
   "execution_count": 21,
   "metadata": {},
   "outputs": [
    {
     "name": "stdout",
     "output_type": "stream",
     "text": [
      "<class 'pandas.core.frame.DataFrame'>\n",
      "RangeIndex: 15 entries, 0 to 14\n",
      "Data columns (total 2 columns):\n",
      " #   Column      Non-Null Count  Dtype  \n",
      "---  ------      --------------  -----  \n",
      " 0   occupation  14 non-null     object \n",
      " 1   plus_50k    15 non-null     float64\n",
      "dtypes: float64(1), object(1)\n",
      "memory usage: 368.0+ bytes\n",
      "None\n"
     ]
    }
   ],
   "source": [
    "print(df_pandas.info())"
   ]
  },
  {
   "cell_type": "markdown",
   "metadata": {},
   "source": [
    "Here we will just do some very basic plotting to show how you might collect what you are interested in into a Pandas DF and then just plot any way you normally would.\n",
    "\n",
    "For simplicity we are going to use the plotting functionality built into pandas (you could make this a pretty as you want)."
   ]
  },
  {
   "cell_type": "code",
   "execution_count": 22,
   "metadata": {},
   "outputs": [
    {
     "data": {
      "image/png": "[encoded data removed]",
      "text/plain": [
       "<Figure size 432x288 with 1 Axes>"
      ]
     },
     "metadata": {},
     "output_type": "display_data"
    }
   ],
   "source": [
    "import matplotlib.pyplot as plt\n",
    "\n",
    "# i like ggplot style\n",
    "plt.style.use('ggplot')\n",
    "\n",
    "# get simple plot on the pandas data\n",
    "myplot = df_pandas.plot(kind='barh', x='occupation', y='plus_50k')\n",
    "\n",
    "# display the plot (note - display() is a databricks function - \n",
    "# more info on plotting in Databricks is here: https://docs.databricks.com/user-guide/visualizations/matplotlib-and-ggplot.html)\n",
    "#display(myplot.figure)"
   ]
  },
  {
   "cell_type": "markdown",
   "metadata": {},
   "source": [
    "You can also easily get summary stats on a Spark DataFrame like below. [Here](https://databricks.com/blog/2015/06/02/statistical-and-mathematical-functions-with-dataframes-in-spark.html) is a nice blog post that has more examples.<br><br>So this is an example of why you might want to move from Spark SQL into DataFrames API as being able to just call describe() on the Spark DF is easier then trying to do the equivilant in Spark SQL."
   ]
  },
  {
   "cell_type": "code",
   "execution_count": 23,
   "metadata": {},
   "outputs": [
    {
     "name": "stdout",
     "output_type": "stream",
     "text": [
      "+-------+------------------+------------------+\n",
      "|summary|               age|     education_num|\n",
      "+-------+------------------+------------------+\n",
      "|  count|             48842|             48842|\n",
      "|   mean|1.7710781704270915|10.078088530363212|\n",
      "| stddev|1.2953781873323977|2.5709727555922646|\n",
      "|    min|               0.0|               1.0|\n",
      "|    max|               4.0|              16.0|\n",
      "+-------+------------------+------------------+\n",
      "\n"
     ]
    }
   ],
   "source": [
    "# describe df\n",
    "df_adult.select(df_adult['age'],df_adult['education_num']).describe().show()"
   ]
  },
  {
   "cell_type": "markdown",
   "metadata": {},
   "source": [
    "### ML Pipeline - Logistic Regression vs Random Forest\n",
    "\n",
    "Below we will create two [Spark ML Pipelines](https://spark.apache.org/docs/latest/ml-pipeline.html) - one that fits a logistic regression and one that fits a random forest. We will then compare the performance of each.\n",
    "\n",
    "**Note**: A lot of the code below is adapted from [this example](https://docs.databricks.com/spark/latest/mllib/binary-classification-mllib-pipelines.html)."
   ]
  },
  {
   "cell_type": "code",
   "execution_count": 32,
   "metadata": {},
   "outputs": [],
   "source": [
    "from pyspark.ml import Pipeline\n",
    "#from pyspark.ml.feature import OneHotEncoderEstimator, StringIndexer, VectorAssembler\n",
    "from pyspark.ml.feature import StringIndexer, VectorAssembler, OneHotEncoder\n",
    "\n",
    "categoricalColumns = [\"workclass\", \"education\", \"marital_status\", \"occupation\", \"relationship\", \"race\", \"sex\", \"native_country\"]\n",
    "stages = [] # stages in our Pipeline\n",
    "\n",
    "for categoricalCol in categoricalColumns:\n",
    "    # Category Indexing with StringIndexer\n",
    "    stringIndexer = StringIndexer(inputCol=categoricalCol, outputCol=categoricalCol + \"Index\")\n",
    "    stringIndexer.setHandleInvalid('skip')\n",
    "    # Use OneHotEncoder to convert categorical variables into binary SparseVectors\n",
    "    # encoder = OneHotEncoderEstimator(inputCol=categoricalCol + \"Index\", outputCol=categoricalCol + \"classVec\")\n",
    "    encoder = OneHotEncoder(inputCols=[stringIndexer.getOutputCol()], outputCols=[categoricalCol + \"classVec\"])\n",
    "    # Add stages.  These are not run here, but will run all at once later on.\n",
    "    stages += [stringIndexer, encoder]"
   ]
  },
  {
   "cell_type": "code",
   "execution_count": 33,
   "metadata": {},
   "outputs": [],
   "source": [
    "# Convert label into label indices using the StringIndexer\n",
    "label_stringIdx = StringIndexer(inputCol=\"income\", outputCol=\"label\")\n",
    "label_stringIdx.setHandleInvalid('skip')\n",
    "stages += [label_stringIdx]"
   ]
  },
  {
   "cell_type": "code",
   "execution_count": 34,
   "metadata": {},
   "outputs": [],
   "source": [
    "# Transform all features into a vector using VectorAssembler\n",
    "numericCols = [\"age\", \"fnlwgt\", \"education_num\", \"capital_gain\", \"capital_loss\", \"hours_per_week\"]\n",
    "assemblerInputs = [c + \"classVec\" for c in categoricalColumns] + numericCols\n",
    "assembler = VectorAssembler(inputCols=assemblerInputs, outputCol=\"features\")\n",
    "stages += [assembler]"
   ]
  },
  {
   "cell_type": "code",
   "execution_count": 35,
   "metadata": {},
   "outputs": [
    {
     "data": {
      "text/plain": [
       "DataFrame[label: double, features: vector, age: double, workclass: string, fnlwgt: double, education: string, education_num: double, marital_status: string, occupation: string, relationship: string, race: string, sex: string, capital_gain: double, capital_loss: double, hours_per_week: double, native_country: string, income: string]"
      ]
     },
     "metadata": {},
     "output_type": "display_data"
    }
   ],
   "source": [
    "# Create a Pipeline.\n",
    "pipeline = Pipeline(stages=stages)\n",
    "# Run the feature transformations.\n",
    "#  - fit() computes feature statistics as needed.\n",
    "#  - transform() actually transforms the features.\n",
    "pipelineModel = pipeline.fit(df_adult)\n",
    "dataset = pipelineModel.transform(df_adult)\n",
    "# Keep relevant columns\n",
    "selectedcols = [\"label\", \"features\"] + cols\n",
    "dataset = dataset.select(selectedcols)\n",
    "display(dataset)"
   ]
  },
  {
   "cell_type": "code",
   "execution_count": 37,
   "metadata": {},
   "outputs": [],
   "source": [
    "### Randomly split data into training and test sets. set seed for reproducibility\n",
    "(trainingData, testData) = dataset.randomSplit([0.7, 0.3], seed=100)"
   ]
  },
  {
   "cell_type": "code",
   "execution_count": 38,
   "metadata": {},
   "outputs": [
    {
     "name": "stdout",
     "output_type": "stream",
     "text": [
      "31658\n",
      "13564\n"
     ]
    }
   ],
   "source": [
    "print(trainingData.count())\n",
    "print(testData.count())"
   ]
  },
  {
   "cell_type": "code",
   "execution_count": 39,
   "metadata": {},
   "outputs": [
    {
     "name": "stdout",
     "output_type": "stream",
     "text": [
      "Positive rate in the training data is 0.2457198812306526\n"
     ]
    }
   ],
   "source": [
    "from pyspark.sql.functions import avg\n",
    "\n",
    "# get the rate of the positive outcome from the training data to use as a threshold in the model\n",
    "training_data_positive_rate = trainingData.select(avg(trainingData['label'])).collect()[0][0] \n",
    "\n",
    "print(\"Positive rate in the training data is {}\".format(training_data_positive_rate))"
   ]
  },
  {
   "cell_type": "markdown",
   "metadata": {},
   "source": [
    "#### Logistic Regression - Train"
   ]
  },
  {
   "cell_type": "code",
   "execution_count": 40,
   "metadata": {},
   "outputs": [
    {
     "name": "stdout",
     "output_type": "stream",
     "text": [
      "Best threshold based on model performance on training data is 0.3187494595498025\n"
     ]
    }
   ],
   "source": [
    "from pyspark.ml.classification import LogisticRegression\n",
    "\n",
    "# Create initial LogisticRegression model\n",
    "lr = LogisticRegression(labelCol=\"label\", featuresCol=\"features\", maxIter=10)\n",
    "\n",
    "# set threshold for the probability above which to predict a 1\n",
    "lr.setThreshold(training_data_positive_rate)\n",
    "# lr.setThreshold(0.5) # could use this if knew you had balanced data\n",
    "\n",
    "# Train model with Training Data\n",
    "lrModel = lr.fit(trainingData)\n",
    "\n",
    "# get training summary used for eval metrics and other params\n",
    "lrTrainingSummary = lrModel.summary\n",
    "\n",
    "# Find the best model threshold if you would like to use that instead of the empirical positve rate\n",
    "fMeasure = lrTrainingSummary.fMeasureByThreshold\n",
    "maxFMeasure = fMeasure.groupBy().max('F-Measure').select('max(F-Measure)').head()\n",
    "lrBestThreshold = fMeasure.where(fMeasure['F-Measure'] == maxFMeasure['max(F-Measure)']) \\\n",
    "    .select('threshold').head()['threshold']\n",
    "  \n",
    "print(\"Best threshold based on model performance on training data is {}\".format(lrBestThreshold))"
   ]
  },
  {
   "cell_type": "markdown",
   "metadata": {},
   "source": [
    "#### GBM - Train"
   ]
  },
  {
   "cell_type": "markdown",
   "metadata": {},
   "source": [
    "#### <span style=\"color:darkblue\">Question 3</span>\n",
    "1. Train a GBTClassifier on the training data, call the trained model 'gbModel'"
   ]
  },
  {
   "cell_type": "code",
   "execution_count": 41,
   "metadata": {},
   "outputs": [],
   "source": [
    "### Question 3.1 Answer ###\n",
    "from pyspark.ml.classification import GBTClassifier\n",
    "\n",
    "# Create initial LogisticRegression model\n",
    "gb = GBTClassifier(labelCol=\"label\", featuresCol=\"features\", maxIter=10)\n",
    "\n",
    "# Train model with Training Data\n",
    "gbModel = gb.fit(trainingData)"
   ]
  },
  {
   "cell_type": "markdown",
   "metadata": {},
   "source": [
    "#### Logistic Regression - Predict"
   ]
  },
  {
   "cell_type": "code",
   "execution_count": 45,
   "metadata": {},
   "outputs": [
    {
     "name": "stdout",
     "output_type": "stream",
     "text": [
      "+-----+----------+--------------------+\n",
      "|label|prediction|         probability|\n",
      "+-----+----------+--------------------+\n",
      "|  0.0|       1.0|[0.24359493408880...|\n",
      "|  0.0|       1.0|[0.63786853761891...|\n",
      "|  0.0|       1.0|[0.63348679012479...|\n",
      "|  0.0|       1.0|[0.70079391787093...|\n",
      "|  0.0|       1.0|[0.69001544691080...|\n",
      "|  0.0|       1.0|[0.65944800451335...|\n",
      "|  0.0|       1.0|[0.63855254414183...|\n",
      "|  0.0|       1.0|[0.48646758526252...|\n",
      "|  0.0|       1.0|[0.54848749253196...|\n",
      "|  0.0|       1.0|[0.63954737457943...|\n",
      "|  0.0|       1.0|[0.63754913614584...|\n",
      "|  0.0|       1.0|[0.57499978396807...|\n",
      "|  0.0|       0.0|[0.89836558070433...|\n",
      "|  0.0|       0.0|[0.85972968386938...|\n",
      "|  0.0|       0.0|[0.92225555982334...|\n",
      "|  0.0|       1.0|[0.51994636326772...|\n",
      "|  0.0|       1.0|[0.48299920260040...|\n",
      "|  0.0|       0.0|[0.85277863880826...|\n",
      "|  0.0|       0.0|[0.85194698161259...|\n",
      "|  0.0|       0.0|[0.81015501575093...|\n",
      "+-----+----------+--------------------+\n",
      "only showing top 20 rows\n",
      "\n"
     ]
    }
   ],
   "source": [
    "# make predictions on test data\n",
    "lrPredictions = lrModel.transform(testData)\n",
    "\n",
    "# display predictions\n",
    "lrPredictions.select(\"label\", \"prediction\", \"probability\").show()\n",
    "#display(lrPredictions)"
   ]
  },
  {
   "cell_type": "markdown",
   "metadata": {},
   "source": [
    "### GBM - Predict"
   ]
  },
  {
   "cell_type": "markdown",
   "metadata": {},
   "source": [
    "#### <span style=\"color:darkblue\">Question 4</span>\n",
    "1. Get predictions on the test data for your GBTClassifier. Call the predictions df 'gbPredictions'."
   ]
  },
  {
   "cell_type": "code",
   "execution_count": 48,
   "metadata": {},
   "outputs": [
    {
     "name": "stdout",
     "output_type": "stream",
     "text": [
      "+-----+----------+--------------------+\n",
      "|label|prediction|         probability|\n",
      "+-----+----------+--------------------+\n",
      "|  0.0|       0.0|[0.73554108001076...|\n",
      "|  0.0|       0.0|[0.72532609356177...|\n",
      "|  0.0|       0.0|[0.72532609356177...|\n",
      "|  0.0|       0.0|[0.74759669901355...|\n",
      "|  0.0|       0.0|[0.74759669901355...|\n",
      "|  0.0|       0.0|[0.60283734085018...|\n",
      "|  0.0|       0.0|[0.60283734085018...|\n",
      "|  0.0|       0.0|[0.57505422800986...|\n",
      "|  0.0|       0.0|[0.60283734085018...|\n",
      "|  0.0|       0.0|[0.67023048111724...|\n",
      "|  0.0|       0.0|[0.67023048111724...|\n",
      "|  0.0|       0.0|[0.60283734085018...|\n",
      "|  0.0|       0.0|[0.72540195737792...|\n",
      "|  0.0|       0.0|[0.74759669901355...|\n",
      "|  0.0|       0.0|[0.60283734085018...|\n",
      "|  0.0|       0.0|[0.60283734085018...|\n",
      "|  0.0|       0.0|[0.60283734085018...|\n",
      "|  0.0|       0.0|[0.74309311902689...|\n",
      "|  0.0|       0.0|[0.74309311902689...|\n",
      "|  0.0|       0.0|[0.74309311902689...|\n",
      "+-----+----------+--------------------+\n",
      "only showing top 20 rows\n",
      "\n"
     ]
    }
   ],
   "source": [
    "### Question 4.1 Answer ###\n",
    "\n",
    "# make predictions on test data\n",
    "gbPredictions = gbModel.transform(testData)\n",
    "\n",
    "gbPredictions.select(\"label\", \"prediction\", \"probability\").show()"
   ]
  },
  {
   "cell_type": "markdown",
   "metadata": {},
   "source": [
    "#### Logistic Regression - Evaluate"
   ]
  },
  {
   "cell_type": "markdown",
   "metadata": {},
   "source": [
    "#### <span style=\"color:darkblue\">Question 5</span>\n",
    "\n",
    "1. Complete the print_performance_metrics() function below to also include measures of F1, Precision, Recall, False Positive Rate and True Positive Rate."
   ]
  },
  {
   "cell_type": "code",
   "execution_count": 57,
   "metadata": {},
   "outputs": [
    {
     "name": "stdout",
     "output_type": "stream",
     "text": [
      "auc = 0.9035537738345146\n",
      "aupr = 0.7714634671349784\n",
      "Area under PR = 0.5563187428699752\n",
      "Area under ROC = 0.8197129938596518\n",
      "Accuracy = 0.8072839870244766\n",
      "DenseMatrix([[8053., 2082.],\n",
      "             [ 532., 2897.]])\n",
      "F1 = 0.689105613701237\n",
      "Precision = 0.5818437437236393\n",
      "Recall = 0.8448527267424906\n",
      "FPR = 0.20542673902318698\n",
      "TPR = 0.8448527267424906\n"
     ]
    }
   ],
   "source": [
    "from pyspark.ml.evaluation import BinaryClassificationEvaluator\n",
    "from pyspark.mllib.evaluation import BinaryClassificationMetrics, MulticlassMetrics\n",
    "\n",
    "def print_performance_metrics(predictions):\n",
    "    # Evaluate model\n",
    "    evaluator = BinaryClassificationEvaluator(rawPredictionCol=\"rawPrediction\")\n",
    "    auc = evaluator.evaluate(predictions, {evaluator.metricName: \"areaUnderROC\"})\n",
    "    aupr = evaluator.evaluate(predictions, {evaluator.metricName: \"areaUnderPR\"})\n",
    "    print(\"auc = {}\".format(auc))\n",
    "    print(\"aupr = {}\".format(aupr))\n",
    "\n",
    "    # get rdd of predictions and labels for mllib eval metrics\n",
    "    predictionAndLabels = predictions.select(\"prediction\",\"label\").rdd\n",
    "\n",
    "    # Instantiate metrics objects\n",
    "    binary_metrics = BinaryClassificationMetrics(predictionAndLabels)\n",
    "    multi_metrics = MulticlassMetrics(predictionAndLabels)\n",
    "\n",
    "    # Area under precision-recall curve\n",
    "    print(\"Area under PR = {}\".format(binary_metrics.areaUnderPR))\n",
    "    # Area under ROC curve\n",
    "    print(\"Area under ROC = {}\".format(binary_metrics.areaUnderROC))\n",
    "    # Accuracy\n",
    "    print(\"Accuracy = {}\".format(multi_metrics.accuracy))\n",
    "    # Confusion Matrix\n",
    "    print(multi_metrics.confusionMatrix())\n",
    "\n",
    "    ### Question 5.1 Answer ###\n",
    "\n",
    "    # F1\n",
    "    print(\"F1 = {}\".format(multi_metrics.fMeasure(1.0)))\n",
    "    # Precision\n",
    "    print(\"Precision = {}\".format(multi_metrics.precision(1.0)))\n",
    "    # Recall\n",
    "    print(\"Recall = {}\".format(multi_metrics.recall(1.0)))\n",
    "    # FPR\n",
    "    print(\"FPR = {}\".format(multi_metrics.falsePositiveRate(1.0)))\n",
    "    # TPR\n",
    "    print(\"TPR = {}\".format(multi_metrics.truePositiveRate(1.0)))\n",
    "\n",
    "\n",
    "print_performance_metrics(lrPredictions)"
   ]
  },
  {
   "cell_type": "markdown",
   "metadata": {},
   "source": [
    "#### GBM - Evaluate"
   ]
  },
  {
   "cell_type": "code",
   "execution_count": 58,
   "metadata": {},
   "outputs": [
    {
     "name": "stdout",
     "output_type": "stream",
     "text": [
      "auc = 0.9015059168417959\n",
      "aupr = 0.7750689910430487\n",
      "Area under PR = 0.6471564711739024\n",
      "Area under ROC = 0.7521933771598729\n",
      "Accuracy = 0.8442199941020347\n",
      "DenseMatrix([[9510.,  625.],\n",
      "             [1488., 1941.]])\n",
      "F1 = 0.6475396163469557\n",
      "Precision = 0.7564302416212003\n",
      "Recall = 0.5660542432195975\n",
      "FPR = 0.061667488899852\n",
      "TPR = 0.5660542432195975\n"
     ]
    }
   ],
   "source": [
    "print_performance_metrics(gbPredictions)"
   ]
  },
  {
   "cell_type": "markdown",
   "metadata": {},
   "source": [
    "## Cross Validation"
   ]
  },
  {
   "cell_type": "markdown",
   "metadata": {},
   "source": [
    "For each model you can run the below comand to see its params and a brief explanation of each."
   ]
  },
  {
   "cell_type": "code",
   "execution_count": 59,
   "metadata": {},
   "outputs": [
    {
     "name": "stdout",
     "output_type": "stream",
     "text": [
      "aggregationDepth: suggested depth for treeAggregate (>= 2). (default: 2)\n",
      "elasticNetParam: the ElasticNet mixing parameter, in range [0, 1]. For alpha = 0, the penalty is an L2 penalty. For alpha = 1, it is an L1 penalty. (default: 0.0)\n",
      "family: The name of family which is a description of the label distribution to be used in the model. Supported options: auto, binomial, multinomial (default: auto)\n",
      "featuresCol: features column name. (default: features, current: features)\n",
      "fitIntercept: whether to fit an intercept term. (default: True)\n",
      "labelCol: label column name. (default: label, current: label)\n",
      "lowerBoundsOnCoefficients: The lower bounds on coefficients if fitting under bound constrained optimization. The bound matrix must be compatible with the shape (1, number of features) for binomial regression, or (number of classes, number of features) for multinomial regression. (undefined)\n",
      "lowerBoundsOnIntercepts: The lower bounds on intercepts if fitting under bound constrained optimization. The bounds vector size must beequal with 1 for binomial regression, or the number oflasses for multinomial regression. (undefined)\n",
      "maxBlockSizeInMB: maximum memory in MB for stacking input data into blocks. Data is stacked within partitions. If more than remaining data size in a partition then it is adjusted to the data size. Default 0.0 represents choosing optimal value, depends on specific algorithm. Must be >= 0. (default: 0.0)\n",
      "maxIter: max number of iterations (>= 0). (default: 100, current: 10)\n",
      "predictionCol: prediction column name. (default: prediction)\n",
      "probabilityCol: Column name for predicted class conditional probabilities. Note: Not all models output well-calibrated probability estimates! These probabilities should be treated as confidences, not precise probabilities. (default: probability)\n",
      "rawPredictionCol: raw prediction (a.k.a. confidence) column name. (default: rawPrediction)\n",
      "regParam: regularization parameter (>= 0). (default: 0.0)\n",
      "standardization: whether to standardize the training features before fitting the model. (default: True)\n",
      "threshold: Threshold in binary classification prediction, in range [0, 1]. If threshold and thresholds are both set, they must match.e.g. if threshold is p, then thresholds must be equal to [1-p, p]. (default: 0.5, current: 0.2457198812306526)\n",
      "thresholds: Thresholds in multi-class classification to adjust the probability of predicting each class. Array must have length equal to the number of classes, with values > 0, excepting that at most one value may be 0. The class with largest value p/t is predicted, where p is the original probability of that class and t is the class's threshold. (undefined)\n",
      "tol: the convergence tolerance for iterative algorithms (>= 0). (default: 1e-06)\n",
      "upperBoundsOnCoefficients: The upper bounds on coefficients if fitting under bound constrained optimization. The bound matrix must be compatible with the shape (1, number of features) for binomial regression, or (number of classes, number of features) for multinomial regression. (undefined)\n",
      "upperBoundsOnIntercepts: The upper bounds on intercepts if fitting under bound constrained optimization. The bound vector size must be equal with 1 for binomial regression, or the number of classes for multinomial regression. (undefined)\n",
      "weightCol: weight column name. If this is not set or empty, we treat all instance weights as 1.0. (undefined)\n"
     ]
    }
   ],
   "source": [
    "print(lr.explainParams())"
   ]
  },
  {
   "cell_type": "code",
   "execution_count": 60,
   "metadata": {},
   "outputs": [
    {
     "name": "stdout",
     "output_type": "stream",
     "text": [
      "cacheNodeIds: If false, the algorithm will pass trees to executors to match instances with nodes. If true, the algorithm will cache node IDs for each instance. Caching can speed up training of deeper trees. Users can set how often should the cache be checkpointed or disable it by setting checkpointInterval. (default: False)\n",
      "checkpointInterval: set checkpoint interval (>= 1) or disable checkpoint (-1). E.g. 10 means that the cache will get checkpointed every 10 iterations. Note: this setting will be ignored if the checkpoint directory is not set in the SparkContext. (default: 10)\n",
      "featureSubsetStrategy: The number of features to consider for splits at each tree node. Supported options: 'auto' (choose automatically for task: If numTrees == 1, set to 'all'. If numTrees > 1 (forest), set to 'sqrt' for classification and to 'onethird' for regression), 'all' (use all features), 'onethird' (use 1/3 of the features), 'sqrt' (use sqrt(number of features)), 'log2' (use log2(number of features)), 'n' (when n is in the range (0, 1.0], use n * number of features. When n is in the range (1, number of features), use n features). default = 'auto' (default: all)\n",
      "featuresCol: features column name. (default: features, current: features)\n",
      "impurity: Criterion used for information gain calculation (case-insensitive). Supported options: variance (default: variance)\n",
      "labelCol: label column name. (default: label, current: label)\n",
      "leafCol: Leaf indices column name. Predicted leaf index of each instance in each tree by preorder. (default: )\n",
      "lossType: Loss function which GBT tries to minimize (case-insensitive). Supported options: logistic (default: logistic)\n",
      "maxBins: Max number of bins for discretizing continuous features.  Must be >=2 and >= number of categories for any categorical feature. (default: 32)\n",
      "maxDepth: Maximum depth of the tree. (>= 0) E.g., depth 0 means 1 leaf node; depth 1 means 1 internal node + 2 leaf nodes. (default: 5)\n",
      "maxIter: max number of iterations (>= 0). (default: 20, current: 10)\n",
      "maxMemoryInMB: Maximum memory in MB allocated to histogram aggregation. If too small, then 1 node will be split per iteration, and its aggregates may exceed this size. (default: 256)\n",
      "minInfoGain: Minimum information gain for a split to be considered at a tree node. (default: 0.0)\n",
      "minInstancesPerNode: Minimum number of instances each child must have after split. If a split causes the left or right child to have fewer than minInstancesPerNode, the split will be discarded as invalid. Should be >= 1. (default: 1)\n",
      "minWeightFractionPerNode: Minimum fraction of the weighted sample count that each child must have after split. If a split causes the fraction of the total weight in the left or right child to be less than minWeightFractionPerNode, the split will be discarded as invalid. Should be in interval [0.0, 0.5). (default: 0.0)\n",
      "predictionCol: prediction column name. (default: prediction)\n",
      "probabilityCol: Column name for predicted class conditional probabilities. Note: Not all models output well-calibrated probability estimates! These probabilities should be treated as confidences, not precise probabilities. (default: probability)\n",
      "rawPredictionCol: raw prediction (a.k.a. confidence) column name. (default: rawPrediction)\n",
      "seed: random seed. (default: 3339736015090924313)\n",
      "stepSize: Step size (a.k.a. learning rate) in interval (0, 1] for shrinking the contribution of each estimator. (default: 0.1)\n",
      "subsamplingRate: Fraction of the training data used for learning each decision tree, in range (0, 1]. (default: 1.0)\n",
      "thresholds: Thresholds in multi-class classification to adjust the probability of predicting each class. Array must have length equal to the number of classes, with values > 0, excepting that at most one value may be 0. The class with largest value p/t is predicted, where p is the original probability of that class and t is the class's threshold. (undefined)\n",
      "validationIndicatorCol: name of the column that indicates whether each row is for training or for validation. False indicates training; true indicates validation. (undefined)\n",
      "validationTol: Threshold for stopping early when fit with validation is used. If the error rate on the validation input changes by less than the validationTol, then learning will stop early (before `maxIter`). This parameter is ignored when fit without validation is used. (default: 0.01)\n",
      "weightCol: weight column name. If this is not set or empty, we treat all instance weights as 1.0. (undefined)\n"
     ]
    }
   ],
   "source": [
    "print(gb.explainParams())"
   ]
  },
  {
   "cell_type": "markdown",
   "metadata": {},
   "source": [
    "#### Logisitic Regression - Param Grid"
   ]
  },
  {
   "cell_type": "code",
   "execution_count": 61,
   "metadata": {},
   "outputs": [],
   "source": [
    "from pyspark.ml.tuning import ParamGridBuilder, CrossValidator\n",
    "\n",
    "# Create ParamGrid for Cross Validation\n",
    "lrParamGrid = (ParamGridBuilder()\n",
    "             .addGrid(lr.regParam, [0.01, 0.5, 2.0])\n",
    "             .addGrid(lr.elasticNetParam, [0.0, 0.5, 1.0])\n",
    "             .addGrid(lr.maxIter, [2, 5])\n",
    "             .build())"
   ]
  },
  {
   "cell_type": "markdown",
   "metadata": {},
   "source": [
    "#### GBM - Param Grid"
   ]
  },
  {
   "cell_type": "markdown",
   "metadata": {},
   "source": [
    "#### <span style=\"color:darkblue\">Question 6</span>\n",
    "\n",
    "1. Build out a param grid for the gb model, call it 'gbParamGrid'."
   ]
  },
  {
   "cell_type": "code",
   "execution_count": 62,
   "metadata": {},
   "outputs": [],
   "source": [
    "### Question 6.1 Answer ###\n",
    "\n",
    "# Create ParamGrid for Cross Validation\n",
    "gbParamGrid = (ParamGridBuilder()\n",
    "             .addGrid(gb.maxDepth, [5, 10, 15])\n",
    "             .addGrid(gb.maxIter, [2, 5])\n",
    "             .build())"
   ]
  },
  {
   "cell_type": "markdown",
   "metadata": {},
   "source": [
    "#### Logistic Regression - Perform Cross Validation"
   ]
  },
  {
   "cell_type": "code",
   "execution_count": 63,
   "metadata": {},
   "outputs": [],
   "source": [
    "# set up an evaluator\n",
    "evaluator = BinaryClassificationEvaluator(rawPredictionCol=\"rawPrediction\")\n",
    "\n",
    "# Create CrossValidator\n",
    "lrCv = CrossValidator(estimator=lr, estimatorParamMaps=lrParamGrid, evaluator=evaluator, numFolds=2)\n",
    "\n",
    "# Run cross validations\n",
    "lrCvModel = lrCv.fit(trainingData)\n",
    "# this will likely take a fair amount of time because of the amount of models that we're creating and testing"
   ]
  },
  {
   "cell_type": "code",
   "execution_count": 64,
   "metadata": {},
   "outputs": [
    {
     "name": "stdout",
     "output_type": "stream",
     "text": [
      "0.01\n",
      "0.0\n",
      "5\n"
     ]
    }
   ],
   "source": [
    "# below approach to getting at the best params from the best cv model taken from:\n",
    "# https://stackoverflow.com/a/46353730/1919374\n",
    "\n",
    "# look at best params from the CV\n",
    "print(lrCvModel.bestModel._java_obj.getRegParam())\n",
    "print(lrCvModel.bestModel._java_obj.getElasticNetParam())\n",
    "print(lrCvModel.bestModel._java_obj.getMaxIter())"
   ]
  },
  {
   "cell_type": "markdown",
   "metadata": {},
   "source": [
    "#### GBM - Perform Cross Validation"
   ]
  },
  {
   "cell_type": "markdown",
   "metadata": {},
   "source": [
    "#### <span style=\"color:darkblue\">Question 7</span>\n",
    "1. Perform cross validation of params on your 'gb' model.\n",
    "1. Print out the best params you found."
   ]
  },
  {
   "cell_type": "code",
   "execution_count": 67,
   "metadata": {},
   "outputs": [],
   "source": [
    "### Question 7.1 Answer ###\n",
    "\n",
    "# Create CrossValidator\n",
    "gbCv = CrossValidator(estimator=gb, estimatorParamMaps=gbParamGrid, evaluator=evaluator, numFolds=2)\n",
    "\n",
    "# Run cross validations\n",
    "gbCvModel = gbCv.fit(trainingData)"
   ]
  },
  {
   "cell_type": "code",
   "execution_count": 68,
   "metadata": {},
   "outputs": [
    {
     "name": "stdout",
     "output_type": "stream",
     "text": [
      "Max depth: 5\n",
      "Max iter: 5\n"
     ]
    }
   ],
   "source": [
    "### Question 7.2 Answer ###\n",
    "\n",
    "# look at best params from the CV\n",
    "print(\"Max depth:\",gbCvModel.bestModel._java_obj.getMaxDepth())\n",
    "print(\"Max iter:\",gbCvModel.bestModel._java_obj.getMaxIter())"
   ]
  },
  {
   "cell_type": "markdown",
   "metadata": {},
   "source": [
    "#### Logistic Regression - CV Model Predict"
   ]
  },
  {
   "cell_type": "code",
   "execution_count": 69,
   "metadata": {},
   "outputs": [
    {
     "data": {
      "text/plain": [
       "DataFrame[label: double, features: vector, age: double, workclass: string, fnlwgt: double, education: string, education_num: double, marital_status: string, occupation: string, relationship: string, race: string, sex: string, capital_gain: double, capital_loss: double, hours_per_week: double, native_country: string, income: string, rawPrediction: vector, probability: vector, prediction: double]"
      ]
     },
     "metadata": {},
     "output_type": "display_data"
    }
   ],
   "source": [
    "# Use test set to measure the accuracy of our model on new data\n",
    "lrCvPredictions = lrCvModel.transform(testData)\n",
    "\n",
    "display(lrCvPredictions)"
   ]
  },
  {
   "cell_type": "markdown",
   "metadata": {},
   "source": [
    "#### GBM - CV Model Predict"
   ]
  },
  {
   "cell_type": "code",
   "execution_count": 70,
   "metadata": {},
   "outputs": [
    {
     "data": {
      "text/plain": [
       "DataFrame[label: double, features: vector, age: double, workclass: string, fnlwgt: double, education: string, education_num: double, marital_status: string, occupation: string, relationship: string, race: string, sex: string, capital_gain: double, capital_loss: double, hours_per_week: double, native_country: string, income: string, rawPrediction: vector, probability: vector, prediction: double]"
      ]
     },
     "metadata": {},
     "output_type": "display_data"
    }
   ],
   "source": [
    "gbCvPredictions = gbCvModel.transform(testData)\n",
    "\n",
    "display(gbCvPredictions)"
   ]
  },
  {
   "cell_type": "markdown",
   "metadata": {},
   "source": [
    "#### Logistic Regression - CV Model Evaluate"
   ]
  },
  {
   "cell_type": "code",
   "execution_count": 71,
   "metadata": {},
   "outputs": [
    {
     "name": "stdout",
     "output_type": "stream",
     "text": [
      "auc = 0.895890761969177\n",
      "aupr = 0.7509611219531463\n",
      "Area under PR = 0.5355619309365669\n",
      "Area under ROC = 0.8125389193971211\n",
      "Accuracy = 0.7919492774992628\n",
      "DenseMatrix([[7813., 2322.],\n",
      "             [ 500., 2929.]])\n",
      "F1 = 0.6748847926267282\n",
      "Precision = 0.5577985145686536\n",
      "Recall = 0.8541848935549723\n",
      "FPR = 0.22910705476073015\n",
      "TPR = 0.8541848935549723\n"
     ]
    }
   ],
   "source": [
    "print_performance_metrics(lrCvPredictions)"
   ]
  },
  {
   "cell_type": "markdown",
   "metadata": {},
   "source": [
    "#### GBM - CV Model Evaluate"
   ]
  },
  {
   "cell_type": "code",
   "execution_count": 72,
   "metadata": {},
   "outputs": [
    {
     "name": "stdout",
     "output_type": "stream",
     "text": [
      "auc = 0.897934705621097\n",
      "aupr = 0.7703984873640198\n",
      "Area under PR = 0.6378244982369693\n",
      "Area under ROC = 0.7351164787184039\n",
      "Accuracy = 0.837732232379829\n",
      "DenseMatrix([[9554.,  581.],\n",
      "             [1620., 1809.]])\n",
      "F1 = 0.6217563155181302\n",
      "Precision = 0.7569037656903765\n",
      "Recall = 0.5275590551181102\n",
      "FPR = 0.05732609768130242\n",
      "TPR = 0.5275590551181102\n"
     ]
    }
   ],
   "source": [
    "print_performance_metrics(gbCvPredictions)"
   ]
  },
  {
   "cell_type": "markdown",
   "metadata": {},
   "source": [
    "#### Logistic Regression - Model Explore"
   ]
  },
  {
   "cell_type": "code",
   "execution_count": 73,
   "metadata": {},
   "outputs": [
    {
     "name": "stdout",
     "output_type": "stream",
     "text": [
      "Model Intercept:  -1.205267021633186\n"
     ]
    }
   ],
   "source": [
    "print('Model Intercept: ', lrCvModel.bestModel.intercept)"
   ]
  },
  {
   "cell_type": "code",
   "execution_count": 75,
   "metadata": {},
   "outputs": [
    {
     "name": "stdout",
     "output_type": "stream",
     "text": [
      "+--------------------+\n",
      "|      Feature Weight|\n",
      "+--------------------+\n",
      "|-0.33209572288452743|\n",
      "|-0.31532497854728486|\n",
      "|  -0.131912559965519|\n",
      "|-0.21904732998214502|\n",
      "|  0.4428227932840432|\n",
      "|  0.2834752758007847|\n",
      "| -0.7336500616380021|\n",
      "|-0.43031022632725746|\n",
      "|-0.19731767265553166|\n",
      "|  0.4194549651101327|\n",
      "|  0.7556766023625413|\n",
      "|-0.07166831902721701|\n",
      "| -0.5992173062132852|\n",
      "|-0.04988565364067841|\n",
      "| -0.6315775225065122|\n",
      "|  -0.807691009281957|\n",
      "|  1.2056286653916521|\n",
      "| -0.7098767597238053|\n",
      "| -0.5259334490940053|\n",
      "|  1.2270900648816854|\n",
      "+--------------------+\n",
      "only showing top 20 rows\n",
      "\n"
     ]
    }
   ],
   "source": [
    "lrWeights = lrCvModel.bestModel.coefficients\n",
    "lrWeights = [(float(w),) for w in lrWeights]  # convert numpy type to float, and to tuple\n",
    "lrWeightsDF = sqlContext.createDataFrame(lrWeights, [\"Feature Weight\"])\n",
    "lrWeightsDF.show()"
   ]
  },
  {
   "cell_type": "markdown",
   "metadata": {},
   "source": [
    "### Feature Importance"
   ]
  },
  {
   "cell_type": "markdown",
   "metadata": {},
   "source": [
    "#### <span style=\"color:darkblue\">Question 8</span>\n",
    "1. Print out a table of feature_name and feature_coefficient from the Logistic Regression model.\n",
    "<br><br>\n",
    "Hint: Adapt the code from here: https://stackoverflow.com/questions/42935914/how-to-map-features-from-the-output-of-a-vectorassembler-back-to-the-column-name"
   ]
  },
  {
   "cell_type": "code",
   "execution_count": 76,
   "metadata": {},
   "outputs": [],
   "source": [
    "from itertools import chain"
   ]
  },
  {
   "cell_type": "code",
   "execution_count": 80,
   "metadata": {},
   "outputs": [
    {
     "data": {
      "text/plain": [
       "[('workclassclassVec_Private', -0.33209572288452743),\n",
       " ('workclassclassVec_Self-emp-not-inc', -0.31532497854728486),\n",
       " ('workclassclassVec_Local-gov', -0.131912559965519),\n",
       " ('workclassclassVec_State-gov', -0.21904732998214502),\n",
       " ('workclassclassVec_Self-emp-inc', 0.4428227932840432),\n",
       " ('workclassclassVec_Federal-gov', 0.2834752758007847),\n",
       " ('workclassclassVec_Without-pay', -0.7336500616380021),\n",
       " ('educationclassVec_HS-grad', -0.43031022632725746),\n",
       " ('educationclassVec_Some-college', -0.19731767265553166),\n",
       " ('educationclassVec_Bachelors', 0.4194549651101327),\n",
       " ('educationclassVec_Masters', 0.7556766023625413),\n",
       " ('educationclassVec_Assoc-voc', -0.07166831902721701),\n",
       " ('educationclassVec_11th', -0.5992173062132852),\n",
       " ('educationclassVec_Assoc-acdm', -0.04988565364067841),\n",
       " ('educationclassVec_10th', -0.6315775225065122),\n",
       " ('educationclassVec_7th-8th', -0.807691009281957),\n",
       " ('educationclassVec_Prof-school', 1.2056286653916521),\n",
       " ('educationclassVec_9th', -0.7098767597238053),\n",
       " ('educationclassVec_12th', -0.5259334490940053),\n",
       " ('educationclassVec_Doctorate', 1.2270900648816854),\n",
       " ('educationclassVec_5th-6th', -0.7425093182876233),\n",
       " ('educationclassVec_1st-4th', -0.7641872633665341),\n",
       " ('marital_statusclassVec_Married-civ-spouse', 0.6581990811068357),\n",
       " ('marital_statusclassVec_Never-married', -0.7555707124325762),\n",
       " ('marital_statusclassVec_Divorced', -0.4294865031854332),\n",
       " ('marital_statusclassVec_Separated', -0.4733747172032054),\n",
       " ('marital_statusclassVec_Widowed', -0.4178200386389025),\n",
       " ('marital_statusclassVec_Married-spouse-absent', -0.3856656251112739),\n",
       " ('occupationclassVec_Prof-specialty', 0.41585767749238056),\n",
       " ('occupationclassVec_Craft-repair', -0.1933621294839519),\n",
       " ('occupationclassVec_Exec-managerial', 0.59799273961862),\n",
       " ('occupationclassVec_Adm-clerical', -0.2903366582289331),\n",
       " ('occupationclassVec_Sales', 0.013199563898900334),\n",
       " ('occupationclassVec_Other-service', -0.6717743958321519),\n",
       " ('occupationclassVec_Machine-op-inspct', -0.4504979006621923),\n",
       " ('occupationclassVec_Transport-moving', -0.28858363779482643),\n",
       " ('occupationclassVec_Handlers-cleaners', -0.5690630374016185),\n",
       " ('occupationclassVec_Farming-fishing', -0.6719606000754634),\n",
       " ('occupationclassVec_Tech-support', 0.17210941700359322),\n",
       " ('occupationclassVec_Protective-serv', 0.05132946516813438),\n",
       " ('occupationclassVec_Priv-house-serv', -0.6148912580860573),\n",
       " ('relationshipclassVec_Husband', 0.5615991670062385),\n",
       " ('relationshipclassVec_Not-in-family', -0.4639769190161724),\n",
       " ('relationshipclassVec_Own-child', -0.700475092565945),\n",
       " ('relationshipclassVec_Unmarried', -0.5498674008942502),\n",
       " ('relationshipclassVec_Wife', 0.7319609359362551),\n",
       " ('raceclassVec_White', -0.30977158095292145),\n",
       " ('raceclassVec_Black', -0.36191755271157683),\n",
       " ('raceclassVec_Asian-Pac-Islander', -0.18646693945052367),\n",
       " ('raceclassVec_Amer-Indian-Eskimo', -0.44487220349837775),\n",
       " ('sexclassVec_Male', 0.16133915495083226),\n",
       " ('native_countryclassVec_United-States', -0.5649309473674431),\n",
       " ('native_countryclassVec_Mexico', -0.7250332488905158),\n",
       " ('native_countryclassVec_Philippines', -0.037261873105994894),\n",
       " ('native_countryclassVec_Germany', -0.25159551492661575),\n",
       " ('native_countryclassVec_Puerto-Rico', -0.4030712996864317),\n",
       " ('native_countryclassVec_Canada', 0.14354624057157545),\n",
       " ('native_countryclassVec_El-Salvador', -0.6552901978902125),\n",
       " ('native_countryclassVec_India', -0.13595949740963925),\n",
       " ('native_countryclassVec_Cuba', -0.18356170307469993),\n",
       " ('native_countryclassVec_England', 0.32594435067402694),\n",
       " ('native_countryclassVec_China', -0.5073892547628154),\n",
       " ('native_countryclassVec_Jamaica', -0.420781743755943),\n",
       " ('native_countryclassVec_South', -0.702048303727734),\n",
       " ('native_countryclassVec_Italy', 0.04797366533214713),\n",
       " ('native_countryclassVec_Dominican-Republic', -0.6963446378905254),\n",
       " ('native_countryclassVec_Japan', -0.006852440079541527),\n",
       " ('native_countryclassVec_Guatemala', -0.6042628741061491),\n",
       " ('native_countryclassVec_Vietnam', -0.8717804918075618),\n",
       " ('native_countryclassVec_Columbia', -0.8638624841691032),\n",
       " ('native_countryclassVec_Poland', -0.6393468548554678),\n",
       " ('native_countryclassVec_Haiti', -0.559829938510911),\n",
       " ('native_countryclassVec_Portugal', -0.36771106518078267),\n",
       " ('native_countryclassVec_Iran', -0.3847097900608309),\n",
       " ('native_countryclassVec_Taiwan', 0.03993341591896513),\n",
       " ('native_countryclassVec_Greece', -0.2151886060658968),\n",
       " ('native_countryclassVec_Nicaragua', -0.5757680337138446),\n",
       " ('native_countryclassVec_Peru', -0.6330455279627408),\n",
       " ('native_countryclassVec_Ecuador', -0.8418508806189169),\n",
       " ('native_countryclassVec_France', 0.08308390940326407),\n",
       " ('native_countryclassVec_Ireland', 0.1921572046621933),\n",
       " ('native_countryclassVec_Thailand', -1.0535790955408313),\n",
       " ('native_countryclassVec_Hong', -0.33748672952652325),\n",
       " ('native_countryclassVec_Cambodia', 0.003537453874931448),\n",
       " ('native_countryclassVec_Trinadad&Tobago', -0.8075858929321362),\n",
       " ('native_countryclassVec_Yugoslavia', -0.21318824047931187),\n",
       " ('native_countryclassVec_Outlying-US(Guam-USVI-etc)', -0.7041159333176942),\n",
       " ('native_countryclassVec_Laos', -0.7355881189644946),\n",
       " ('native_countryclassVec_Scotland', -1.0375768640737624),\n",
       " ('native_countryclassVec_Honduras', -0.560515314442164),\n",
       " ('native_countryclassVec_Hungary', 0.2695545465340304),\n",
       " ('age', 0.12000704475398936),\n",
       " ('fnlwgt', -8.350848735456645e-07),\n",
       " ('education_num', 0.025445888672483864),\n",
       " ('capital_gain', 0.5764813296075624),\n",
       " ('capital_loss', 0.3295495668238379),\n",
       " ('hours_per_week', 0.13272696914706808)]"
      ]
     },
     "execution_count": 80,
     "metadata": {},
     "output_type": "execute_result"
    }
   ],
   "source": [
    "### Question 8.1 Answer ###\n",
    "\n",
    "# from: https://stackoverflow.com/questions/42935914/how-to-map-features-from-the-output-of-a-vectorassembler-back-to-the-column-name\n",
    "\n",
    "lrm = lrCvModel.bestModel\n",
    "\n",
    "transformed = lrm.transform(testData)\n",
    "\n",
    "attrs = sorted(\n",
    "    (attr[\"idx\"], attr[\"name\"]) for attr in (chain(*transformed\n",
    "        .schema[lrm.summary.featuresCol]\n",
    "        .metadata[\"ml_attr\"][\"attrs\"].values())))\n",
    "\n",
    "[(name, lrm.coefficients[idx]) for idx, name in attrs]"
   ]
  },
  {
   "cell_type": "code",
   "execution_count": 81,
   "metadata": {},
   "outputs": [
    {
     "name": "stdout",
     "output_type": "stream",
     "text": [
      "                                 feature_name  feature_importance\n",
      "22  marital_statusclassVec_Married-civ-spouse            0.341603\n",
      "93                              education_num            0.189345\n",
      "94                               capital_gain            0.093691\n",
      "30         occupationclassVec_Exec-managerial            0.074229\n",
      "91                                        age            0.073391\n",
      "..                                        ...                 ...\n",
      "44             relationshipclassVec_Unmarried            0.000000\n",
      "41               relationshipclassVec_Husband            0.000000\n",
      "40         occupationclassVec_Priv-house-serv            0.000000\n",
      "38            occupationclassVec_Tech-support            0.000000\n",
      "48            raceclassVec_Asian-Pac-Islander            0.000000\n",
      "\n",
      "[97 rows x 2 columns]\n"
     ]
    }
   ],
   "source": [
    "gbCvFeatureImportance = pd.DataFrame([(name, gbCvModel.bestModel.featureImportances[idx]) for idx, name in attrs],columns=['feature_name','feature_importance'])\n",
    "\n",
    "print(gbCvFeatureImportance.sort_values(by=['feature_importance'],ascending =False))"
   ]
  },
  {
   "cell_type": "markdown",
   "metadata": {},
   "source": [
    "#### <span style=\"color:darkblue\">Question 9</span>\n",
    "1. Build and train a RandomForestClassifier and print out a table of feature importances from it."
   ]
  },
  {
   "cell_type": "code",
   "execution_count": 84,
   "metadata": {},
   "outputs": [
    {
     "name": "stdout",
     "output_type": "stream",
     "text": [
      "                                 feature_name  feature_importance\n",
      "94                               capital_gain            0.163680\n",
      "22  marital_statusclassVec_Married-civ-spouse            0.162415\n",
      "91                                        age            0.127118\n",
      "41               relationshipclassVec_Husband            0.122153\n",
      "93                              education_num            0.109975\n",
      "..                                        ...                 ...\n",
      "72            native_countryclassVec_Portugal            0.000000\n",
      "73                native_countryclassVec_Iran            0.000000\n",
      "53         native_countryclassVec_Philippines            0.000000\n",
      "35        occupationclassVec_Transport-moving            0.000000\n",
      "74              native_countryclassVec_Taiwan            0.000000\n",
      "\n",
      "[97 rows x 2 columns]\n"
     ]
    }
   ],
   "source": [
    "### Question 9.1 Answer ###\n",
    "\n",
    "from pyspark.ml.classification import RandomForestClassifier\n",
    "\n",
    "rf = RandomForestClassifier(labelCol=\"label\", featuresCol=\"features\")\n",
    "\n",
    "rfModel = rf.fit(trainingData)\n",
    "\n",
    "rfFeatureImportance = pd.DataFrame([(name, rfModel.featureImportances[idx]) for idx, name in attrs],columns=['feature_name','feature_importance'])\n",
    "\n",
    "print(rfFeatureImportance.sort_values(by=['feature_importance'],ascending =False))"
   ]
  },
  {
   "cell_type": "code",
   "execution_count": null,
   "metadata": {},
   "outputs": [],
   "source": []
  }
 ],
 "metadata": {
  "kernelspec": {
   "display_name": "Python 3",
   "language": "python",
   "name": "python3"
  },
  "language_info": {
   "codemirror_mode": {
    "name": "ipython",
    "version": 3
   },
   "file_extension": ".py",
   "mimetype": "text/x-python",
   "name": "python",
   "nbconvert_exporter": "python",
   "pygments_lexer": "ipython3",
   "version": "3.9.4"
  },
  "name": "Spark DF, SQL, ML Exercise",
  "notebookId": 4191519594163685
 },
 "nbformat": 4,
 "nbformat_minor": 4
}
